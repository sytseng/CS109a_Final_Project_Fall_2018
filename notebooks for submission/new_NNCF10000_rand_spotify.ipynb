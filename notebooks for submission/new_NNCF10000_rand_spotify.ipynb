{
 "cells": [
  {
   "cell_type": "markdown",
   "metadata": {},
   "source": [
    "# Neural Collaborative Filtering (NNCF)\n",
    "***\n",
    "Besides classical matrix factorization, we also implemented the neural network version of collaborative filtering: using deep network model to perform matrix factorization, as well as allowing extra playlist-track mixing. \n",
    "\n",
    "The code implemented here was adopted from this 2017 WWW paper on __[Neural Collaborative Filtering](https://www.comp.nus.edu.sg/~xiangnan/papers/ncf.pdf)__ and a comprehensive __[blogpost](https://nipunbatra.github.io/blog/2017/neural-collaborative-filtering.html)__ written by Dr. Nipun Batra, Assistant Professor in Computer Science Department at IIT Gandhinagar. We applied the architecture of the NNCF model to the same subset of data consisting of randomly selected 10,000 playlists, training the network to perform binary classifcation on playlist-track pairs (predicting 0 vs. 1), and evaluated the model performance.\n",
    "\n",
    "***\n",
    "First we import the libraries."
   ]
  },
  {
   "cell_type": "code",
   "execution_count": 1,
   "metadata": {},
   "outputs": [
    {
     "name": "stderr",
     "output_type": "stream",
     "text": [
      "Using TensorFlow backend.\n"
     ]
    }
   ],
   "source": [
    "import numpy as np\n",
    "import matplotlib\n",
    "import matplotlib.pyplot as plt\n",
    "import scipy.sparse as sps\n",
    "import scipy\n",
    "import pickle\n",
    "import keras\n",
    "from keras.callbacks import ModelCheckpoint\n",
    "from keras.models import load_model\n",
    "from sklearn.preprocessing import OneHotEncoder\n",
    "from sklearn.metrics import confusion_matrix\n",
    "from sklearn.metrics import f1_score\n",
    "from sklearn.metrics import roc_auc_score\n",
    "import itertools\n",
    "%matplotlib inline"
   ]
  },
  {
   "cell_type": "markdown",
   "metadata": {},
   "source": [
    "## Load data and model\n",
    "\n",
    "***\n",
    "Here we loaded the sparse matrix containing track-playlist contingency."
   ]
  },
  {
   "cell_type": "code",
   "execution_count": 2,
   "metadata": {},
   "outputs": [],
   "source": [
    "# load files\n",
    "sps_acc = sps.load_npz('sparse_10000_rand.npz')"
   ]
  },
  {
   "cell_type": "code",
   "execution_count": 3,
   "metadata": {},
   "outputs": [
    {
     "data": {
      "text/plain": [
       "<171381x10000 sparse matrix of type '<class 'numpy.float64'>'\n",
       "\twith 657056 stored elements in Compressed Sparse Column format>"
      ]
     },
     "execution_count": 3,
     "metadata": {},
     "output_type": "execute_result"
    }
   ],
   "source": [
    "# convert matrix to csc type\n",
    "sps_acc = sps_acc.tocsc()\n",
    "sps_acc"
   ]
  },
  {
   "cell_type": "markdown",
   "metadata": {},
   "source": [
    "## Set up model architecture\n",
    "***\n",
    "For building the model, we need to determine the number of latent factors for the embedding layers of ***matrix factorization stream***, as well as those for the ***multilayer perceptron stream***, for both playlist and track inputs. We set the former to 50, and the latter to 10, as a simple start."
   ]
  },
  {
   "cell_type": "code",
   "execution_count": 4,
   "metadata": {},
   "outputs": [],
   "source": [
    "# set latent factor number\n",
    "n_tracks, n_playlists = sps_acc.shape[0], sps_acc.shape[1]\n",
    "n_latent_mf = 50\n",
    "n_latent_playlist = 10\n",
    "n_latent_track = 10"
   ]
  },
  {
   "cell_type": "markdown",
   "metadata": {},
   "source": [
    "## Network architecture\n",
    "***\n",
    "This architecture was adopted from the blogpost mentioned above. For the final prediction layer, we set it to a 2-unit dense connected layer for binary classification with softmax activation, and used binary crossentropy as loss function. We compiled the model with Adam optimizer, with a mild learning rate decay. "
   ]
  },
  {
   "cell_type": "code",
   "execution_count": 5,
   "metadata": {},
   "outputs": [],
   "source": [
    "# build model\n",
    "from keras.layers import Input, Embedding, Flatten, Dropout, Concatenate, Dot, BatchNormalization, Dense\n",
    "\n",
    "# track embedding stream\n",
    "track_input = Input(shape=[1],name='Track')\n",
    "track_embedding_mlp = Embedding(n_tracks + 1, n_latent_track, name='track-Embedding-MLP')(track_input)\n",
    "track_vec_mlp = Flatten(name='Flatten_tracks-MLP')(track_embedding_mlp)\n",
    "track_vec_mlp = Dropout(0.2)(track_vec_mlp)\n",
    "\n",
    "track_embedding_mf = Embedding(n_tracks + 1, n_latent_mf, name='track-Embedding-MF')(track_input)\n",
    "track_vec_mf = Flatten(name='Flatten_tracks-MF')(track_embedding_mf)\n",
    "track_vec_mf = Dropout(0.2)(track_vec_mf)\n",
    "\n",
    "# playlist embedding stream\n",
    "playlist_input = Input(shape=[1],name='Playlist')\n",
    "playlist_vec_mlp = Flatten(name='Flatten_playlists-MLP')(Embedding(n_playlists + 1, n_latent_playlist,name='playlist-Embedding-MLP')(playlist_input))\n",
    "playlist_vec_mlp = Dropout(0.2)(playlist_vec_mlp)\n",
    "\n",
    "playlist_vec_mf = Flatten(name='Flatten_playlists-MF')(Embedding(n_playlists + 1, n_latent_mf,name='playlist-Embedding-MF')(playlist_input))\n",
    "playlist_vec_mf = Dropout(0.2)(playlist_vec_mf)\n",
    "\n",
    "# MLP stream\n",
    "concat = Concatenate(axis=-1,name='Concat')([track_vec_mlp, playlist_vec_mlp])\n",
    "concat_dropout = Dropout(0.2)(concat)\n",
    "dense = Dense(200,name='FullyConnected')(concat_dropout)\n",
    "dense_batch = BatchNormalization(name='Batch')(dense)\n",
    "dropout_1 = Dropout(0.2,name='Dropout-1')(dense_batch)\n",
    "dense_2 = Dense(100,name='FullyConnected-1')(dropout_1)\n",
    "dense_batch_2 = BatchNormalization(name='Batch-2')(dense_2)\n",
    "dropout_2 = Dropout(0.2,name='Dropout-2')(dense_batch_2)\n",
    "dense_3 = Dense(50,name='FullyConnected-2')(dropout_2)\n",
    "dense_4 = Dense(20,name='FullyConnected-3', activation='relu')(dense_3)\n",
    "\n",
    "# end prediction for both streams\n",
    "pred_mf = Dot(1,name='Dot')([track_vec_mf, playlist_vec_mf])\n",
    "pred_mlp = Dense(1, activation='relu',name='Activation')(dense_4)\n",
    "\n",
    "# combine both stream\n",
    "combine_mlp_mf = Concatenate(axis=-1,name='Concat-MF-MLP')([pred_mf, pred_mlp])\n",
    "result_combine = Dense(100,name='Combine-MF-MLP')(combine_mlp_mf)\n",
    "deep_combine = Dense(100,name='FullyConnected-4')(result_combine)\n",
    "\n",
    "# final prediction layer\n",
    "result = Dense(2, activation = 'softmax', name='Prediction')(deep_combine)\n",
    "\n",
    "# build model\n",
    "model = keras.Model([playlist_input, track_input], result)\n",
    "\n",
    "# compile model\n",
    "opt = keras.optimizers.Adam(lr = 0.1, decay = 1e-5)\n",
    "model.compile(optimizer='adam', loss= 'binary_crossentropy', metrics = ['accuracy'])"
   ]
  },
  {
   "cell_type": "markdown",
   "metadata": {},
   "source": [
    "Here is the visualization and summary of the model."
   ]
  },
  {
   "cell_type": "code",
   "execution_count": 6,
   "metadata": {},
   "outputs": [
    {
     "data": {
      "image/svg+xml": [
       "<svg height=\"1359pt\" viewBox=\"0.00 0.00 948.50 1359.00\" width=\"949pt\" xmlns=\"http://www.w3.org/2000/svg\" xmlns:xlink=\"http://www.w3.org/1999/xlink\">\n",
       "<g class=\"graph\" id=\"graph0\" transform=\"scale(1 1) rotate(0) translate(4 1355)\">\n",
       "<title>G</title>\n",
       "<polygon fill=\"#ffffff\" points=\"-4,4 -4,-1355 944.5,-1355 944.5,4 -4,4\" stroke=\"transparent\"/>\n",
       "<!-- 4502921112 -->\n",
       "<g class=\"node\" id=\"node1\">\n",
       "<title>4502921112</title>\n",
       "<polygon fill=\"none\" points=\"163,-1314.5 163,-1350.5 282,-1350.5 282,-1314.5 163,-1314.5\" stroke=\"#000000\"/>\n",
       "<text fill=\"#000000\" font-family=\"Times,serif\" font-size=\"14.00\" text-anchor=\"middle\" x=\"222.5\" y=\"-1328.8\">Track: InputLayer</text>\n",
       "</g>\n",
       "<!-- 4502921168 -->\n",
       "<g class=\"node\" id=\"node3\">\n",
       "<title>4502921168</title>\n",
       "<polygon fill=\"none\" points=\"229,-1241.5 229,-1277.5 448,-1277.5 448,-1241.5 229,-1241.5\" stroke=\"#000000\"/>\n",
       "<text fill=\"#000000\" font-family=\"Times,serif\" font-size=\"14.00\" text-anchor=\"middle\" x=\"338.5\" y=\"-1255.8\">track-Embedding-MLP: Embedding</text>\n",
       "</g>\n",
       "<!-- 4502921112&#45;&gt;4502921168 -->\n",
       "<g class=\"edge\" id=\"edge1\">\n",
       "<title>4502921112-&gt;4502921168</title>\n",
       "<path d=\"M251.1742,-1314.4551C266.232,-1304.979 284.8686,-1293.2508 301.053,-1283.0658\" fill=\"none\" stroke=\"#000000\"/>\n",
       "<polygon fill=\"#000000\" points=\"303.1543,-1285.8788 309.7537,-1277.5904 299.4259,-1279.9544 303.1543,-1285.8788\" stroke=\"#000000\"/>\n",
       "</g>\n",
       "<!-- 4502936208 -->\n",
       "<g class=\"node\" id=\"node16\">\n",
       "<title>4502936208</title>\n",
       "<polygon fill=\"none\" points=\"0,-1241.5 0,-1277.5 211,-1277.5 211,-1241.5 0,-1241.5\" stroke=\"#000000\"/>\n",
       "<text fill=\"#000000\" font-family=\"Times,serif\" font-size=\"14.00\" text-anchor=\"middle\" x=\"105.5\" y=\"-1255.8\">track-Embedding-MF: Embedding</text>\n",
       "</g>\n",
       "<!-- 4502921112&#45;&gt;4502936208 -->\n",
       "<g class=\"edge\" id=\"edge15\">\n",
       "<title>4502921112-&gt;4502936208</title>\n",
       "<path d=\"M193.5786,-1314.4551C178.391,-1304.979 159.5937,-1293.2508 143.2699,-1283.0658\" fill=\"none\" stroke=\"#000000\"/>\n",
       "<polygon fill=\"#000000\" points=\"144.8309,-1279.9145 134.4941,-1277.5904 141.1255,-1285.8533 144.8309,-1279.9145\" stroke=\"#000000\"/>\n",
       "</g>\n",
       "<!-- 4592173464 -->\n",
       "<g class=\"node\" id=\"node2\">\n",
       "<title>4592173464</title>\n",
       "<polygon fill=\"none\" points=\"637.5,-1314.5 637.5,-1350.5 765.5,-1350.5 765.5,-1314.5 637.5,-1314.5\" stroke=\"#000000\"/>\n",
       "<text fill=\"#000000\" font-family=\"Times,serif\" font-size=\"14.00\" text-anchor=\"middle\" x=\"701.5\" y=\"-1328.8\">Playlist: InputLayer</text>\n",
       "</g>\n",
       "<!-- 4465288920 -->\n",
       "<g class=\"node\" id=\"node4\">\n",
       "<title>4465288920</title>\n",
       "<polygon fill=\"none\" points=\"708.5,-1241.5 708.5,-1277.5 940.5,-1277.5 940.5,-1241.5 708.5,-1241.5\" stroke=\"#000000\"/>\n",
       "<text fill=\"#000000\" font-family=\"Times,serif\" font-size=\"14.00\" text-anchor=\"middle\" x=\"824.5\" y=\"-1255.8\">playlist-Embedding-MLP: Embedding</text>\n",
       "</g>\n",
       "<!-- 4592173464&#45;&gt;4465288920 -->\n",
       "<g class=\"edge\" id=\"edge2\">\n",
       "<title>4592173464-&gt;4465288920</title>\n",
       "<path d=\"M731.9045,-1314.4551C748.0189,-1304.8912 767.9985,-1293.0334 785.2692,-1282.7833\" fill=\"none\" stroke=\"#000000\"/>\n",
       "<polygon fill=\"#000000\" points=\"787.2058,-1285.704 794.019,-1277.5904 783.6331,-1279.6843 787.2058,-1285.704\" stroke=\"#000000\"/>\n",
       "</g>\n",
       "<!-- 112432317496 -->\n",
       "<g class=\"node\" id=\"node17\">\n",
       "<title>112432317496</title>\n",
       "<polygon fill=\"none\" points=\"466.5,-1241.5 466.5,-1277.5 690.5,-1277.5 690.5,-1241.5 466.5,-1241.5\" stroke=\"#000000\"/>\n",
       "<text fill=\"#000000\" font-family=\"Times,serif\" font-size=\"14.00\" text-anchor=\"middle\" x=\"578.5\" y=\"-1255.8\">playlist-Embedding-MF: Embedding</text>\n",
       "</g>\n",
       "<!-- 4592173464&#45;&gt;112432317496 -->\n",
       "<g class=\"edge\" id=\"edge16\">\n",
       "<title>4592173464-&gt;112432317496</title>\n",
       "<path d=\"M671.0955,-1314.4551C654.9811,-1304.8912 635.0015,-1293.0334 617.7308,-1282.7833\" fill=\"none\" stroke=\"#000000\"/>\n",
       "<polygon fill=\"#000000\" points=\"619.3669,-1279.6843 608.981,-1277.5904 615.7942,-1285.704 619.3669,-1279.6843\" stroke=\"#000000\"/>\n",
       "</g>\n",
       "<!-- 4502934248 -->\n",
       "<g class=\"node\" id=\"node5\">\n",
       "<title>4502934248</title>\n",
       "<polygon fill=\"none\" points=\"261.5,-1168.5 261.5,-1204.5 437.5,-1204.5 437.5,-1168.5 261.5,-1168.5\" stroke=\"#000000\"/>\n",
       "<text fill=\"#000000\" font-family=\"Times,serif\" font-size=\"14.00\" text-anchor=\"middle\" x=\"349.5\" y=\"-1182.8\">Flatten_tracks-MLP: Flatten</text>\n",
       "</g>\n",
       "<!-- 4502921168&#45;&gt;4502934248 -->\n",
       "<g class=\"edge\" id=\"edge3\">\n",
       "<title>4502921168-&gt;4502934248</title>\n",
       "<path d=\"M341.2191,-1241.4551C342.4355,-1233.3828 343.8981,-1223.6764 345.2534,-1214.6817\" fill=\"none\" stroke=\"#000000\"/>\n",
       "<polygon fill=\"#000000\" points=\"348.7449,-1215.0003 346.7741,-1204.5904 341.823,-1213.9572 348.7449,-1215.0003\" stroke=\"#000000\"/>\n",
       "</g>\n",
       "<!-- 4744235944 -->\n",
       "<g class=\"node\" id=\"node6\">\n",
       "<title>4744235944</title>\n",
       "<polygon fill=\"none\" points=\"708,-1168.5 708,-1204.5 897,-1204.5 897,-1168.5 708,-1168.5\" stroke=\"#000000\"/>\n",
       "<text fill=\"#000000\" font-family=\"Times,serif\" font-size=\"14.00\" text-anchor=\"middle\" x=\"802.5\" y=\"-1182.8\">Flatten_playlists-MLP: Flatten</text>\n",
       "</g>\n",
       "<!-- 4465288920&#45;&gt;4744235944 -->\n",
       "<g class=\"edge\" id=\"edge4\">\n",
       "<title>4465288920-&gt;4744235944</title>\n",
       "<path d=\"M819.0618,-1241.4551C816.6026,-1233.2951 813.6402,-1223.4652 810.9048,-1214.3887\" fill=\"none\" stroke=\"#000000\"/>\n",
       "<polygon fill=\"#000000\" points=\"814.1886,-1213.1551 807.9519,-1204.5904 807.4863,-1215.175 814.1886,-1213.1551\" stroke=\"#000000\"/>\n",
       "</g>\n",
       "<!-- 4482710216 -->\n",
       "<g class=\"node\" id=\"node7\">\n",
       "<title>4482710216</title>\n",
       "<polygon fill=\"none\" points=\"303.5,-1095.5 303.5,-1131.5 431.5,-1131.5 431.5,-1095.5 303.5,-1095.5\" stroke=\"#000000\"/>\n",
       "<text fill=\"#000000\" font-family=\"Times,serif\" font-size=\"14.00\" text-anchor=\"middle\" x=\"367.5\" y=\"-1109.8\">dropout_1: Dropout</text>\n",
       "</g>\n",
       "<!-- 4502934248&#45;&gt;4482710216 -->\n",
       "<g class=\"edge\" id=\"edge5\">\n",
       "<title>4502934248-&gt;4482710216</title>\n",
       "<path d=\"M353.9494,-1168.4551C355.9615,-1160.2951 358.3853,-1150.4652 360.6233,-1141.3887\" fill=\"none\" stroke=\"#000000\"/>\n",
       "<polygon fill=\"#000000\" points=\"364.0435,-1142.1375 363.0394,-1131.5904 357.247,-1140.4616 364.0435,-1142.1375\" stroke=\"#000000\"/>\n",
       "</g>\n",
       "<!-- 4744236392 -->\n",
       "<g class=\"node\" id=\"node8\">\n",
       "<title>4744236392</title>\n",
       "<polygon fill=\"none\" points=\"693.5,-1095.5 693.5,-1131.5 821.5,-1131.5 821.5,-1095.5 693.5,-1095.5\" stroke=\"#000000\"/>\n",
       "<text fill=\"#000000\" font-family=\"Times,serif\" font-size=\"14.00\" text-anchor=\"middle\" x=\"757.5\" y=\"-1109.8\">dropout_3: Dropout</text>\n",
       "</g>\n",
       "<!-- 4744235944&#45;&gt;4744236392 -->\n",
       "<g class=\"edge\" id=\"edge6\">\n",
       "<title>4744235944-&gt;4744236392</title>\n",
       "<path d=\"M791.3764,-1168.4551C786.1299,-1159.9441 779.7636,-1149.6165 773.9724,-1140.2219\" fill=\"none\" stroke=\"#000000\"/>\n",
       "<polygon fill=\"#000000\" points=\"776.8785,-1138.2663 768.6516,-1131.5904 770.9197,-1141.9396 776.8785,-1138.2663\" stroke=\"#000000\"/>\n",
       "</g>\n",
       "<!-- 112432318280 -->\n",
       "<g class=\"node\" id=\"node9\">\n",
       "<title>112432318280</title>\n",
       "<polygon fill=\"none\" points=\"451,-1022.5 451,-1058.5 584,-1058.5 584,-1022.5 451,-1022.5\" stroke=\"#000000\"/>\n",
       "<text fill=\"#000000\" font-family=\"Times,serif\" font-size=\"14.00\" text-anchor=\"middle\" x=\"517.5\" y=\"-1036.8\">Concat: Concatenate</text>\n",
       "</g>\n",
       "<!-- 4482710216&#45;&gt;112432318280 -->\n",
       "<g class=\"edge\" id=\"edge7\">\n",
       "<title>4482710216-&gt;112432318280</title>\n",
       "<path d=\"M404.5787,-1095.4551C424.6811,-1085.6719 449.7159,-1073.4883 471.1015,-1063.0806\" fill=\"none\" stroke=\"#000000\"/>\n",
       "<polygon fill=\"#000000\" points=\"472.8679,-1066.1135 480.328,-1058.5904 469.8047,-1059.8193 472.8679,-1066.1135\" stroke=\"#000000\"/>\n",
       "</g>\n",
       "<!-- 4744236392&#45;&gt;112432318280 -->\n",
       "<g class=\"edge\" id=\"edge8\">\n",
       "<title>4744236392-&gt;112432318280</title>\n",
       "<path d=\"M698.1741,-1095.4551C664.4237,-1085.1893 621.9837,-1072.2804 586.7183,-1061.5539\" fill=\"none\" stroke=\"#000000\"/>\n",
       "<polygon fill=\"#000000\" points=\"587.5609,-1058.1519 576.9752,-1058.5904 585.5238,-1064.849 587.5609,-1058.1519\" stroke=\"#000000\"/>\n",
       "</g>\n",
       "<!-- 112438135552 -->\n",
       "<g class=\"node\" id=\"node10\">\n",
       "<title>112438135552</title>\n",
       "<polygon fill=\"none\" points=\"453.5,-949.5 453.5,-985.5 581.5,-985.5 581.5,-949.5 453.5,-949.5\" stroke=\"#000000\"/>\n",
       "<text fill=\"#000000\" font-family=\"Times,serif\" font-size=\"14.00\" text-anchor=\"middle\" x=\"517.5\" y=\"-963.8\">dropout_5: Dropout</text>\n",
       "</g>\n",
       "<!-- 112432318280&#45;&gt;112438135552 -->\n",
       "<g class=\"edge\" id=\"edge9\">\n",
       "<title>112432318280-&gt;112438135552</title>\n",
       "<path d=\"M517.5,-1022.4551C517.5,-1014.3828 517.5,-1004.6764 517.5,-995.6817\" fill=\"none\" stroke=\"#000000\"/>\n",
       "<polygon fill=\"#000000\" points=\"521.0001,-995.5903 517.5,-985.5904 514.0001,-995.5904 521.0001,-995.5903\" stroke=\"#000000\"/>\n",
       "</g>\n",
       "<!-- 112438135944 -->\n",
       "<g class=\"node\" id=\"node11\">\n",
       "<title>112438135944</title>\n",
       "<polygon fill=\"none\" points=\"443.5,-876.5 443.5,-912.5 591.5,-912.5 591.5,-876.5 443.5,-876.5\" stroke=\"#000000\"/>\n",
       "<text fill=\"#000000\" font-family=\"Times,serif\" font-size=\"14.00\" text-anchor=\"middle\" x=\"517.5\" y=\"-890.8\">FullyConnected: Dense</text>\n",
       "</g>\n",
       "<!-- 112438135552&#45;&gt;112438135944 -->\n",
       "<g class=\"edge\" id=\"edge10\">\n",
       "<title>112438135552-&gt;112438135944</title>\n",
       "<path d=\"M517.5,-949.4551C517.5,-941.3828 517.5,-931.6764 517.5,-922.6817\" fill=\"none\" stroke=\"#000000\"/>\n",
       "<polygon fill=\"#000000\" points=\"521.0001,-922.5903 517.5,-912.5904 514.0001,-922.5904 521.0001,-922.5903\" stroke=\"#000000\"/>\n",
       "</g>\n",
       "<!-- 112438435792 -->\n",
       "<g class=\"node\" id=\"node12\">\n",
       "<title>112438435792</title>\n",
       "<polygon fill=\"none\" points=\"432.5,-803.5 432.5,-839.5 602.5,-839.5 602.5,-803.5 432.5,-803.5\" stroke=\"#000000\"/>\n",
       "<text fill=\"#000000\" font-family=\"Times,serif\" font-size=\"14.00\" text-anchor=\"middle\" x=\"517.5\" y=\"-817.8\">Batch: BatchNormalization</text>\n",
       "</g>\n",
       "<!-- 112438135944&#45;&gt;112438435792 -->\n",
       "<g class=\"edge\" id=\"edge11\">\n",
       "<title>112438135944-&gt;112438435792</title>\n",
       "<path d=\"M517.5,-876.4551C517.5,-868.3828 517.5,-858.6764 517.5,-849.6817\" fill=\"none\" stroke=\"#000000\"/>\n",
       "<polygon fill=\"#000000\" points=\"521.0001,-849.5903 517.5,-839.5904 514.0001,-849.5904 521.0001,-849.5903\" stroke=\"#000000\"/>\n",
       "</g>\n",
       "<!-- 112438598064 -->\n",
       "<g class=\"node\" id=\"node13\">\n",
       "<title>112438598064</title>\n",
       "<polygon fill=\"none\" points=\"453,-730.5 453,-766.5 582,-766.5 582,-730.5 453,-730.5\" stroke=\"#000000\"/>\n",
       "<text fill=\"#000000\" font-family=\"Times,serif\" font-size=\"14.00\" text-anchor=\"middle\" x=\"517.5\" y=\"-744.8\">Dropout-1: Dropout</text>\n",
       "</g>\n",
       "<!-- 112438435792&#45;&gt;112438598064 -->\n",
       "<g class=\"edge\" id=\"edge12\">\n",
       "<title>112438435792-&gt;112438598064</title>\n",
       "<path d=\"M517.5,-803.4551C517.5,-795.3828 517.5,-785.6764 517.5,-776.6817\" fill=\"none\" stroke=\"#000000\"/>\n",
       "<polygon fill=\"#000000\" points=\"521.0001,-776.5903 517.5,-766.5904 514.0001,-776.5904 521.0001,-776.5903\" stroke=\"#000000\"/>\n",
       "</g>\n",
       "<!-- 112438599408 -->\n",
       "<g class=\"node\" id=\"node14\">\n",
       "<title>112438599408</title>\n",
       "<polygon fill=\"none\" points=\"437.5,-657.5 437.5,-693.5 597.5,-693.5 597.5,-657.5 437.5,-657.5\" stroke=\"#000000\"/>\n",
       "<text fill=\"#000000\" font-family=\"Times,serif\" font-size=\"14.00\" text-anchor=\"middle\" x=\"517.5\" y=\"-671.8\">FullyConnected-1: Dense</text>\n",
       "</g>\n",
       "<!-- 112438598064&#45;&gt;112438599408 -->\n",
       "<g class=\"edge\" id=\"edge13\">\n",
       "<title>112438598064-&gt;112438599408</title>\n",
       "<path d=\"M517.5,-730.4551C517.5,-722.3828 517.5,-712.6764 517.5,-703.6817\" fill=\"none\" stroke=\"#000000\"/>\n",
       "<polygon fill=\"#000000\" points=\"521.0001,-703.5903 517.5,-693.5904 514.0001,-703.5904 521.0001,-703.5903\" stroke=\"#000000\"/>\n",
       "</g>\n",
       "<!-- 112438893984 -->\n",
       "<g class=\"node\" id=\"node15\">\n",
       "<title>112438893984</title>\n",
       "<polygon fill=\"none\" points=\"426.5,-584.5 426.5,-620.5 608.5,-620.5 608.5,-584.5 426.5,-584.5\" stroke=\"#000000\"/>\n",
       "<text fill=\"#000000\" font-family=\"Times,serif\" font-size=\"14.00\" text-anchor=\"middle\" x=\"517.5\" y=\"-598.8\">Batch-2: BatchNormalization</text>\n",
       "</g>\n",
       "<!-- 112438599408&#45;&gt;112438893984 -->\n",
       "<g class=\"edge\" id=\"edge14\">\n",
       "<title>112438599408-&gt;112438893984</title>\n",
       "<path d=\"M517.5,-657.4551C517.5,-649.3828 517.5,-639.6764 517.5,-630.6817\" fill=\"none\" stroke=\"#000000\"/>\n",
       "<polygon fill=\"#000000\" points=\"521.0001,-630.5903 517.5,-620.5904 514.0001,-630.5904 521.0001,-630.5903\" stroke=\"#000000\"/>\n",
       "</g>\n",
       "<!-- 112439262344 -->\n",
       "<g class=\"node\" id=\"node18\">\n",
       "<title>112439262344</title>\n",
       "<polygon fill=\"none\" points=\"451,-511.5 451,-547.5 580,-547.5 580,-511.5 451,-511.5\" stroke=\"#000000\"/>\n",
       "<text fill=\"#000000\" font-family=\"Times,serif\" font-size=\"14.00\" text-anchor=\"middle\" x=\"515.5\" y=\"-525.8\">Dropout-2: Dropout</text>\n",
       "</g>\n",
       "<!-- 112438893984&#45;&gt;112439262344 -->\n",
       "<g class=\"edge\" id=\"edge17\">\n",
       "<title>112438893984-&gt;112439262344</title>\n",
       "<path d=\"M517.0056,-584.4551C516.7845,-576.3828 516.5185,-566.6764 516.2721,-557.6817\" fill=\"none\" stroke=\"#000000\"/>\n",
       "<polygon fill=\"#000000\" points=\"519.7683,-557.4907 515.9956,-547.5904 512.7709,-557.6825 519.7683,-557.4907\" stroke=\"#000000\"/>\n",
       "</g>\n",
       "<!-- 4502934920 -->\n",
       "<g class=\"node\" id=\"node19\">\n",
       "<title>4502934920</title>\n",
       "<polygon fill=\"none\" points=\"55,-1168.5 55,-1204.5 222,-1204.5 222,-1168.5 55,-1168.5\" stroke=\"#000000\"/>\n",
       "<text fill=\"#000000\" font-family=\"Times,serif\" font-size=\"14.00\" text-anchor=\"middle\" x=\"138.5\" y=\"-1182.8\">Flatten_tracks-MF: Flatten</text>\n",
       "</g>\n",
       "<!-- 4502936208&#45;&gt;4502934920 -->\n",
       "<g class=\"edge\" id=\"edge18\">\n",
       "<title>4502936208-&gt;4502934920</title>\n",
       "<path d=\"M113.6573,-1241.4551C117.4254,-1233.1196 121.9812,-1223.0416 126.157,-1213.8042\" fill=\"none\" stroke=\"#000000\"/>\n",
       "<polygon fill=\"#000000\" points=\"129.3922,-1215.1443 130.3222,-1204.5904 123.0136,-1212.2608 129.3922,-1215.1443\" stroke=\"#000000\"/>\n",
       "</g>\n",
       "<!-- 112432317776 -->\n",
       "<g class=\"node\" id=\"node20\">\n",
       "<title>112432317776</title>\n",
       "<polygon fill=\"none\" points=\"477.5,-1168.5 477.5,-1204.5 657.5,-1204.5 657.5,-1168.5 477.5,-1168.5\" stroke=\"#000000\"/>\n",
       "<text fill=\"#000000\" font-family=\"Times,serif\" font-size=\"14.00\" text-anchor=\"middle\" x=\"567.5\" y=\"-1182.8\">Flatten_playlists-MF: Flatten</text>\n",
       "</g>\n",
       "<!-- 112432317496&#45;&gt;112432317776 -->\n",
       "<g class=\"edge\" id=\"edge19\">\n",
       "<title>112432317496-&gt;112432317776</title>\n",
       "<path d=\"M575.7809,-1241.4551C574.5645,-1233.3828 573.1019,-1223.6764 571.7466,-1214.6817\" fill=\"none\" stroke=\"#000000\"/>\n",
       "<polygon fill=\"#000000\" points=\"575.177,-1213.9572 570.2259,-1204.5904 568.2551,-1215.0003 575.177,-1213.9572\" stroke=\"#000000\"/>\n",
       "</g>\n",
       "<!-- 112439428992 -->\n",
       "<g class=\"node\" id=\"node21\">\n",
       "<title>112439428992</title>\n",
       "<polygon fill=\"none\" points=\"432.5,-438.5 432.5,-474.5 592.5,-474.5 592.5,-438.5 432.5,-438.5\" stroke=\"#000000\"/>\n",
       "<text fill=\"#000000\" font-family=\"Times,serif\" font-size=\"14.00\" text-anchor=\"middle\" x=\"512.5\" y=\"-452.8\">FullyConnected-2: Dense</text>\n",
       "</g>\n",
       "<!-- 112439262344&#45;&gt;112439428992 -->\n",
       "<g class=\"edge\" id=\"edge20\">\n",
       "<title>112439262344-&gt;112439428992</title>\n",
       "<path d=\"M514.7584,-511.4551C514.4267,-503.3828 514.0278,-493.6764 513.6582,-484.6817\" fill=\"none\" stroke=\"#000000\"/>\n",
       "<polygon fill=\"#000000\" points=\"517.1512,-484.4382 513.2434,-474.5904 510.1571,-484.7257 517.1512,-484.4382\" stroke=\"#000000\"/>\n",
       "</g>\n",
       "<!-- 4502934976 -->\n",
       "<g class=\"node\" id=\"node22\">\n",
       "<title>4502934976</title>\n",
       "<polygon fill=\"none\" points=\"125.5,-1095.5 125.5,-1131.5 253.5,-1131.5 253.5,-1095.5 125.5,-1095.5\" stroke=\"#000000\"/>\n",
       "<text fill=\"#000000\" font-family=\"Times,serif\" font-size=\"14.00\" text-anchor=\"middle\" x=\"189.5\" y=\"-1109.8\">dropout_2: Dropout</text>\n",
       "</g>\n",
       "<!-- 4502934920&#45;&gt;4502934976 -->\n",
       "<g class=\"edge\" id=\"edge21\">\n",
       "<title>4502934920-&gt;4502934976</title>\n",
       "<path d=\"M151.1067,-1168.4551C157.114,-1159.8564 164.4168,-1149.4034 171.0341,-1139.9316\" fill=\"none\" stroke=\"#000000\"/>\n",
       "<polygon fill=\"#000000\" points=\"174.0036,-1141.7925 176.8615,-1131.5904 168.2652,-1137.7835 174.0036,-1141.7925\" stroke=\"#000000\"/>\n",
       "</g>\n",
       "<!-- 112432317440 -->\n",
       "<g class=\"node\" id=\"node23\">\n",
       "<title>112432317440</title>\n",
       "<polygon fill=\"none\" points=\"485.5,-1095.5 485.5,-1131.5 613.5,-1131.5 613.5,-1095.5 485.5,-1095.5\" stroke=\"#000000\"/>\n",
       "<text fill=\"#000000\" font-family=\"Times,serif\" font-size=\"14.00\" text-anchor=\"middle\" x=\"549.5\" y=\"-1109.8\">dropout_4: Dropout</text>\n",
       "</g>\n",
       "<!-- 112432317776&#45;&gt;112432317440 -->\n",
       "<g class=\"edge\" id=\"edge22\">\n",
       "<title>112432317776-&gt;112432317440</title>\n",
       "<path d=\"M563.0506,-1168.4551C561.0385,-1160.2951 558.6147,-1150.4652 556.3767,-1141.3887\" fill=\"none\" stroke=\"#000000\"/>\n",
       "<polygon fill=\"#000000\" points=\"559.753,-1140.4616 553.9606,-1131.5904 552.9565,-1142.1375 559.753,-1140.4616\" stroke=\"#000000\"/>\n",
       "</g>\n",
       "<!-- 112440315800 -->\n",
       "<g class=\"node\" id=\"node24\">\n",
       "<title>112440315800</title>\n",
       "<polygon fill=\"none\" points=\"431.5,-365.5 431.5,-401.5 591.5,-401.5 591.5,-365.5 431.5,-365.5\" stroke=\"#000000\"/>\n",
       "<text fill=\"#000000\" font-family=\"Times,serif\" font-size=\"14.00\" text-anchor=\"middle\" x=\"511.5\" y=\"-379.8\">FullyConnected-3: Dense</text>\n",
       "</g>\n",
       "<!-- 112439428992&#45;&gt;112440315800 -->\n",
       "<g class=\"edge\" id=\"edge23\">\n",
       "<title>112439428992-&gt;112440315800</title>\n",
       "<path d=\"M512.2528,-438.4551C512.1422,-430.3828 512.0093,-420.6764 511.8861,-411.6817\" fill=\"none\" stroke=\"#000000\"/>\n",
       "<polygon fill=\"#000000\" points=\"515.3846,-411.5414 511.7478,-401.5904 508.3852,-411.6374 515.3846,-411.5414\" stroke=\"#000000\"/>\n",
       "</g>\n",
       "<!-- 112440544336 -->\n",
       "<g class=\"node\" id=\"node25\">\n",
       "<title>112440544336</title>\n",
       "<polygon fill=\"none\" points=\"365.5,-1022.5 365.5,-1058.5 431.5,-1058.5 431.5,-1022.5 365.5,-1022.5\" stroke=\"#000000\"/>\n",
       "<text fill=\"#000000\" font-family=\"Times,serif\" font-size=\"14.00\" text-anchor=\"middle\" x=\"398.5\" y=\"-1036.8\">Dot: Dot</text>\n",
       "</g>\n",
       "<!-- 4502934976&#45;&gt;112440544336 -->\n",
       "<g class=\"edge\" id=\"edge24\">\n",
       "<title>4502934976-&gt;112440544336</title>\n",
       "<path d=\"M241.1629,-1095.4551C276.3279,-1083.1726 322.3253,-1067.1065 355.4935,-1055.5214\" fill=\"none\" stroke=\"#000000\"/>\n",
       "<polygon fill=\"#000000\" points=\"357.0625,-1058.6808 365.3491,-1052.079 354.7542,-1052.0723 357.0625,-1058.6808\" stroke=\"#000000\"/>\n",
       "</g>\n",
       "<!-- 112432317440&#45;&gt;112440544336 -->\n",
       "<g class=\"edge\" id=\"edge25\">\n",
       "<title>112432317440-&gt;112440544336</title>\n",
       "<path d=\"M512.1741,-1095.4551C490.5479,-1085 463.2508,-1071.8034 440.8269,-1060.9627\" fill=\"none\" stroke=\"#000000\"/>\n",
       "<polygon fill=\"#000000\" points=\"442.0722,-1057.6772 431.5457,-1056.4757 439.0254,-1063.9794 442.0722,-1057.6772\" stroke=\"#000000\"/>\n",
       "</g>\n",
       "<!-- 112441417064 -->\n",
       "<g class=\"node\" id=\"node26\">\n",
       "<title>112441417064</title>\n",
       "<polygon fill=\"none\" points=\"436.5,-292.5 436.5,-328.5 554.5,-328.5 554.5,-292.5 436.5,-292.5\" stroke=\"#000000\"/>\n",
       "<text fill=\"#000000\" font-family=\"Times,serif\" font-size=\"14.00\" text-anchor=\"middle\" x=\"495.5\" y=\"-306.8\">Activation: Dense</text>\n",
       "</g>\n",
       "<!-- 112440315800&#45;&gt;112441417064 -->\n",
       "<g class=\"edge\" id=\"edge26\">\n",
       "<title>112440315800-&gt;112441417064</title>\n",
       "<path d=\"M507.5449,-365.4551C505.7565,-357.2951 503.602,-347.4652 501.6126,-338.3887\" fill=\"none\" stroke=\"#000000\"/>\n",
       "<polygon fill=\"#000000\" points=\"505.0249,-337.6091 499.465,-328.5904 498.1872,-339.1079 505.0249,-337.6091\" stroke=\"#000000\"/>\n",
       "</g>\n",
       "<!-- 112441416840 -->\n",
       "<g class=\"node\" id=\"node27\">\n",
       "<title>112441416840</title>\n",
       "<polygon fill=\"none\" points=\"346,-219.5 346,-255.5 537,-255.5 537,-219.5 346,-219.5\" stroke=\"#000000\"/>\n",
       "<text fill=\"#000000\" font-family=\"Times,serif\" font-size=\"14.00\" text-anchor=\"middle\" x=\"441.5\" y=\"-233.8\">Concat-MF-MLP: Concatenate</text>\n",
       "</g>\n",
       "<!-- 112440544336&#45;&gt;112441416840 -->\n",
       "<g class=\"edge\" id=\"edge27\">\n",
       "<title>112440544336-&gt;112441416840</title>\n",
       "<path d=\"M398.5,-1022.062C398.5,-994.3663 398.5,-940.3785 398.5,-894.5 398.5,-894.5 398.5,-894.5 398.5,-383.5 398.5,-340.9537 415.5108,-294.1703 428.1339,-265.3111\" fill=\"none\" stroke=\"#000000\"/>\n",
       "<polygon fill=\"#000000\" points=\"431.4632,-266.4421 432.3808,-255.8871 425.0812,-263.5661 431.4632,-266.4421\" stroke=\"#000000\"/>\n",
       "</g>\n",
       "<!-- 112441417064&#45;&gt;112441416840 -->\n",
       "<g class=\"edge\" id=\"edge28\">\n",
       "<title>112441417064-&gt;112441416840</title>\n",
       "<path d=\"M482.1517,-292.4551C475.7261,-283.7686 467.9007,-273.1898 460.8379,-263.642\" fill=\"none\" stroke=\"#000000\"/>\n",
       "<polygon fill=\"#000000\" points=\"463.6428,-261.5484 454.8819,-255.5904 458.0151,-265.7113 463.6428,-261.5484\" stroke=\"#000000\"/>\n",
       "</g>\n",
       "<!-- 112441693016 -->\n",
       "<g class=\"node\" id=\"node28\">\n",
       "<title>112441693016</title>\n",
       "<polygon fill=\"none\" points=\"357,-146.5 357,-182.5 526,-182.5 526,-146.5 357,-146.5\" stroke=\"#000000\"/>\n",
       "<text fill=\"#000000\" font-family=\"Times,serif\" font-size=\"14.00\" text-anchor=\"middle\" x=\"441.5\" y=\"-160.8\">Combine-MF-MLP: Dense</text>\n",
       "</g>\n",
       "<!-- 112441416840&#45;&gt;112441693016 -->\n",
       "<g class=\"edge\" id=\"edge29\">\n",
       "<title>112441416840-&gt;112441693016</title>\n",
       "<path d=\"M441.5,-219.4551C441.5,-211.3828 441.5,-201.6764 441.5,-192.6817\" fill=\"none\" stroke=\"#000000\"/>\n",
       "<polygon fill=\"#000000\" points=\"445.0001,-192.5903 441.5,-182.5904 438.0001,-192.5904 445.0001,-192.5903\" stroke=\"#000000\"/>\n",
       "</g>\n",
       "<!-- 112441693744 -->\n",
       "<g class=\"node\" id=\"node29\">\n",
       "<title>112441693744</title>\n",
       "<polygon fill=\"none\" points=\"361.5,-73.5 361.5,-109.5 521.5,-109.5 521.5,-73.5 361.5,-73.5\" stroke=\"#000000\"/>\n",
       "<text fill=\"#000000\" font-family=\"Times,serif\" font-size=\"14.00\" text-anchor=\"middle\" x=\"441.5\" y=\"-87.8\">FullyConnected-4: Dense</text>\n",
       "</g>\n",
       "<!-- 112441693016&#45;&gt;112441693744 -->\n",
       "<g class=\"edge\" id=\"edge30\">\n",
       "<title>112441693016-&gt;112441693744</title>\n",
       "<path d=\"M441.5,-146.4551C441.5,-138.3828 441.5,-128.6764 441.5,-119.6817\" fill=\"none\" stroke=\"#000000\"/>\n",
       "<polygon fill=\"#000000\" points=\"445.0001,-119.5903 441.5,-109.5904 438.0001,-119.5904 445.0001,-119.5903\" stroke=\"#000000\"/>\n",
       "</g>\n",
       "<!-- 112441822568 -->\n",
       "<g class=\"node\" id=\"node30\">\n",
       "<title>112441822568</title>\n",
       "<polygon fill=\"none\" points=\"383.5,-.5 383.5,-36.5 499.5,-36.5 499.5,-.5 383.5,-.5\" stroke=\"#000000\"/>\n",
       "<text fill=\"#000000\" font-family=\"Times,serif\" font-size=\"14.00\" text-anchor=\"middle\" x=\"441.5\" y=\"-14.8\">Prediction: Dense</text>\n",
       "</g>\n",
       "<!-- 112441693744&#45;&gt;112441822568 -->\n",
       "<g class=\"edge\" id=\"edge31\">\n",
       "<title>112441693744-&gt;112441822568</title>\n",
       "<path d=\"M441.5,-73.4551C441.5,-65.3828 441.5,-55.6764 441.5,-46.6817\" fill=\"none\" stroke=\"#000000\"/>\n",
       "<polygon fill=\"#000000\" points=\"445.0001,-46.5903 441.5,-36.5904 438.0001,-46.5904 445.0001,-46.5903\" stroke=\"#000000\"/>\n",
       "</g>\n",
       "</g>\n",
       "</svg>"
      ],
      "text/plain": [
       "<IPython.core.display.SVG object>"
      ]
     },
     "execution_count": 6,
     "metadata": {},
     "output_type": "execute_result"
    }
   ],
   "source": [
    "# visualize model\n",
    "from IPython.display import SVG\n",
    "from keras.utils.vis_utils import model_to_dot\n",
    "SVG(model_to_dot(model, show_shapes=False, show_layer_names=True, rankdir='HB').create(prog='dot', format='svg'))"
   ]
  },
  {
   "cell_type": "code",
   "execution_count": 7,
   "metadata": {},
   "outputs": [
    {
     "name": "stdout",
     "output_type": "stream",
     "text": [
      "__________________________________________________________________________________________________\n",
      "Layer (type)                    Output Shape         Param #     Connected to                     \n",
      "==================================================================================================\n",
      "Track (InputLayer)              (None, 1)            0                                            \n",
      "__________________________________________________________________________________________________\n",
      "Playlist (InputLayer)           (None, 1)            0                                            \n",
      "__________________________________________________________________________________________________\n",
      "track-Embedding-MLP (Embedding) (None, 1, 10)        1713820     Track[0][0]                      \n",
      "__________________________________________________________________________________________________\n",
      "playlist-Embedding-MLP (Embeddi (None, 1, 10)        100010      Playlist[0][0]                   \n",
      "__________________________________________________________________________________________________\n",
      "Flatten_tracks-MLP (Flatten)    (None, 10)           0           track-Embedding-MLP[0][0]        \n",
      "__________________________________________________________________________________________________\n",
      "Flatten_playlists-MLP (Flatten) (None, 10)           0           playlist-Embedding-MLP[0][0]     \n",
      "__________________________________________________________________________________________________\n",
      "dropout_1 (Dropout)             (None, 10)           0           Flatten_tracks-MLP[0][0]         \n",
      "__________________________________________________________________________________________________\n",
      "dropout_3 (Dropout)             (None, 10)           0           Flatten_playlists-MLP[0][0]      \n",
      "__________________________________________________________________________________________________\n",
      "Concat (Concatenate)            (None, 20)           0           dropout_1[0][0]                  \n",
      "                                                                 dropout_3[0][0]                  \n",
      "__________________________________________________________________________________________________\n",
      "dropout_5 (Dropout)             (None, 20)           0           Concat[0][0]                     \n",
      "__________________________________________________________________________________________________\n",
      "FullyConnected (Dense)          (None, 200)          4200        dropout_5[0][0]                  \n",
      "__________________________________________________________________________________________________\n",
      "Batch (BatchNormalization)      (None, 200)          800         FullyConnected[0][0]             \n",
      "__________________________________________________________________________________________________\n",
      "Dropout-1 (Dropout)             (None, 200)          0           Batch[0][0]                      \n",
      "__________________________________________________________________________________________________\n",
      "FullyConnected-1 (Dense)        (None, 100)          20100       Dropout-1[0][0]                  \n",
      "__________________________________________________________________________________________________\n",
      "Batch-2 (BatchNormalization)    (None, 100)          400         FullyConnected-1[0][0]           \n",
      "__________________________________________________________________________________________________\n",
      "track-Embedding-MF (Embedding)  (None, 1, 50)        8569100     Track[0][0]                      \n",
      "__________________________________________________________________________________________________\n",
      "playlist-Embedding-MF (Embeddin (None, 1, 50)        500050      Playlist[0][0]                   \n",
      "__________________________________________________________________________________________________\n",
      "Dropout-2 (Dropout)             (None, 100)          0           Batch-2[0][0]                    \n",
      "__________________________________________________________________________________________________\n",
      "Flatten_tracks-MF (Flatten)     (None, 50)           0           track-Embedding-MF[0][0]         \n",
      "__________________________________________________________________________________________________\n",
      "Flatten_playlists-MF (Flatten)  (None, 50)           0           playlist-Embedding-MF[0][0]      \n",
      "__________________________________________________________________________________________________\n",
      "FullyConnected-2 (Dense)        (None, 50)           5050        Dropout-2[0][0]                  \n",
      "__________________________________________________________________________________________________\n",
      "dropout_2 (Dropout)             (None, 50)           0           Flatten_tracks-MF[0][0]          \n",
      "__________________________________________________________________________________________________\n",
      "dropout_4 (Dropout)             (None, 50)           0           Flatten_playlists-MF[0][0]       \n",
      "__________________________________________________________________________________________________\n",
      "FullyConnected-3 (Dense)        (None, 20)           1020        FullyConnected-2[0][0]           \n",
      "__________________________________________________________________________________________________\n",
      "Dot (Dot)                       (None, 1)            0           dropout_2[0][0]                  \n",
      "                                                                 dropout_4[0][0]                  \n",
      "__________________________________________________________________________________________________\n",
      "Activation (Dense)              (None, 1)            21          FullyConnected-3[0][0]           \n",
      "__________________________________________________________________________________________________\n",
      "Concat-MF-MLP (Concatenate)     (None, 2)            0           Dot[0][0]                        \n",
      "                                                                 Activation[0][0]                 \n",
      "__________________________________________________________________________________________________\n",
      "Combine-MF-MLP (Dense)          (None, 100)          300         Concat-MF-MLP[0][0]              \n",
      "__________________________________________________________________________________________________\n",
      "FullyConnected-4 (Dense)        (None, 100)          10100       Combine-MF-MLP[0][0]             \n",
      "__________________________________________________________________________________________________\n",
      "Prediction (Dense)              (None, 2)            202         FullyConnected-4[0][0]           \n",
      "==================================================================================================\n",
      "Total params: 10,925,173\n",
      "Trainable params: 10,924,573\n",
      "Non-trainable params: 600\n",
      "__________________________________________________________________________________________________\n"
     ]
    }
   ],
   "source": [
    "# print out model summary\n",
    "model.summary()"
   ]
  },
  {
   "cell_type": "markdown",
   "metadata": {},
   "source": [
    "## Spliting data\n",
    "***\n",
    "We split 5% of the data from the whole dataset, and distributed the 5% equally into validation and test set. From the summary statistics, we can see that the matrix is really sparse: only ~0.03% of pair had class 1 labels. "
   ]
  },
  {
   "cell_type": "code",
   "execution_count": 8,
   "metadata": {},
   "outputs": [
    {
     "name": "stdout",
     "output_type": "stream",
     "text": [
      "# of all sample = 1713810000\n",
      "proportion of ones in all samples = 0.00038338905713002026\n",
      "# of split samples = 32679\n",
      "proportion of ones in split sample = 0.00038136082762966724\n"
     ]
    }
   ],
   "source": [
    "# split data for training vs. validation/testing\n",
    "data_size = n_playlists*n_tracks\n",
    "\n",
    "# split a portion of pairs for validation and test\n",
    "split_ratio = 0.05\n",
    "split_num = int(data_size*split_ratio)\n",
    "\n",
    "split_tracks = np.random.choice(n_tracks, split_num).reshape(-1,)\n",
    "split_playlists = np.random.choice(n_playlists, split_num).reshape(-1,)\n",
    "split_values = np.array(sps_acc[split_tracks, split_playlists]).reshape(-1,)\n",
    "\n",
    "split_pair = [(tr, pl) for tr,pl in zip(split_tracks,split_playlists)]\n",
    "\n",
    "print('# of all sample =', data_size)\n",
    "print('proportion of ones in all samples =', sps_acc.count_nonzero()/data_size)\n",
    "print('# of split samples =',int(np.sum(split_values)))\n",
    "print('proportion of ones in split sample =', np.mean(split_values))"
   ]
  },
  {
   "cell_type": "code",
   "execution_count": 9,
   "metadata": {},
   "outputs": [],
   "source": [
    "# split the saved pairs into validation and test data\n",
    "test_num = int(split_num/2)\n",
    "\n",
    "test_tracks = split_tracks[:test_num]\n",
    "test_playlists = split_playlists[:test_num]\n",
    "test_values = split_values[:test_num]\n",
    "test_target = keras.utils.to_categorical(test_values, num_classes=2)\n",
    "\n",
    "val_tracks = split_tracks[test_num+1:]\n",
    "val_playlists = split_playlists[test_num+1:]\n",
    "val_values = split_values[test_num+1:]\n",
    "val_target = keras.utils.to_categorical(val_values, num_classes=2)"
   ]
  },
  {
   "cell_type": "markdown",
   "metadata": {},
   "source": [
    "A trick here: We masked the splited data by setting the value to 2, and later excluded them during training process."
   ]
  },
  {
   "cell_type": "code",
   "execution_count": 10,
   "metadata": {},
   "outputs": [
    {
     "name": "stderr",
     "output_type": "stream",
     "text": [
      "/Users/shihyitseng/anaconda3/lib/python3.6/site-packages/scipy/sparse/compressed.py:746: SparseEfficiencyWarning: Changing the sparsity structure of a csc_matrix is expensive. lil_matrix is more efficient.\n",
      "  SparseEfficiencyWarning)\n"
     ]
    }
   ],
   "source": [
    "# put split sample values to 2\n",
    "sps_two = sps_acc\n",
    "sps_two[split_tracks,split_playlists] = 2"
   ]
  },
  {
   "cell_type": "markdown",
   "metadata": {},
   "source": [
    "## Define training data generator\n",
    "***\n",
    "One important step we took for training was to artificially ***balance the class labels***. Since the class 1 pairs were extremely sparse, a network trained on the original data can end up predicting everything to 0. Actuaslly that was what we got when we started with the naive way. In the current version we presented here, the training generator yielded augemented data with equalized class number. This would force the network to pay more attention on the class 1 samples, and bias the network to have a higher prior to class 1 than the real prior (which was around 0.1%). But the \"high\" false positive rate is actually what we want! We need to make recommendation on extending the songs in a playlists, and the \"false positive\" samples would be the candidates for recommendation."
   ]
  },
  {
   "cell_type": "code",
   "execution_count": 11,
   "metadata": {},
   "outputs": [],
   "source": [
    "# define training sample generator (with balanced classes)\n",
    "\n",
    "# build one-hot encoder\n",
    "exampleCase = [0., 1.]\n",
    "ohe = OneHotEncoder(categories='auto').fit(np.array(exampleCase).reshape((len(exampleCase), 1)))\n",
    "\n",
    "def trainGenerator(sps_two, ohe, batch_size=10000, balance_ratio=0.5):\n",
    "    while True:\n",
    "        n_tracks = sps_two.shape[0]\n",
    "        n_playlists = sps_two.shape[1]\n",
    "\n",
    "        # find indices for non-zero values\n",
    "        index = scipy.sparse.find(sps_two)\n",
    "\n",
    "        # find number of ones and zeros in final yield\n",
    "        num_ones = np.ceil(batch_size*balance_ratio).astype(int)\n",
    "        num_zeros = batch_size - num_ones\n",
    "\n",
    "        # extract tracks, playlists and labels\n",
    "        tr = index[0] # track\n",
    "        pl = index[1] # playlist\n",
    "        la = index[2] # label\n",
    "\n",
    "        # find where label == 1\n",
    "        is_one = la == 1\n",
    "        tr = tr[is_one]\n",
    "        pl = pl[is_one]\n",
    "\n",
    "        # select class one samples\n",
    "        num = tr.shape[0]\n",
    "        one_ind = np.random.choice(num, num_ones)\n",
    "        one_tracks = tr[one_ind]\n",
    "        one_playlists = pl[one_ind]\n",
    "        one_values = np.ones((num_ones,1))\n",
    "\n",
    "        # over-sample 2 times of target number for class zero randomly (and later exclude non-zero samples)\n",
    "        rand_tracks = np.random.choice(n_tracks, num_zeros*2)\n",
    "        rand_playlists = np.random.choice(n_playlists, num_zeros*2)\n",
    "        rand_values = np.array(sps_two[rand_tracks, rand_playlists]).reshape(-1,)\n",
    "\n",
    "        # check to find class zero samples\n",
    "        is_zero = rand_values == 0\n",
    "        zero_tracks = rand_tracks[is_zero]\n",
    "        zero_playlists = rand_playlists[is_zero]\n",
    "        \n",
    "        # grab zero entries with the target number\n",
    "        zero_tracks = zero_tracks[:num_zeros]\n",
    "        zero_playlists = zero_playlists[:num_zeros]\n",
    "        zero_values = np.zeros((num_zeros,1))\n",
    "\n",
    "        # concatenate class one and zeros\n",
    "        sub_tracks = np.concatenate((one_tracks, zero_tracks))\n",
    "        sub_playlists = np.concatenate((one_playlists, zero_playlists))\n",
    "        values = np.concatenate((one_values, zero_values),axis = 0)\n",
    "        target = ohe.transform(values).toarray()\n",
    "        \n",
    "        yield [sub_playlists, sub_tracks], target"
   ]
  },
  {
   "cell_type": "markdown",
   "metadata": {},
   "source": [
    "The validation generator was defined similarly, generating samples from the validation set with equalized class number."
   ]
  },
  {
   "cell_type": "code",
   "execution_count": 12,
   "metadata": {},
   "outputs": [],
   "source": [
    "is_ones_val = np.array(val_values).reshape(-1,)==1\n",
    "val_tracks_ones = val_tracks[is_ones_val]\n",
    "val_playlists_ones = val_playlists[is_ones_val]\n",
    "\n",
    "val_tracks_zeros = val_tracks[~is_ones_val]\n",
    "val_playlists_zeros = val_playlists[~is_ones_val]\n",
    "\n",
    "# define validation generator (with balanced classes)\n",
    "def valGenerator_balance(val_tracks_ones, val_playlists_ones, val_tracks_zeros, val_playlists_zeros, \n",
    "                         ohe, val_batch_size=10000, balance_ratio = 0.5):\n",
    "    while True:\n",
    "        num_ones = int(val_batch_size*balance_ratio)\n",
    "        num_zeros = val_batch_size - num_ones\n",
    "        \n",
    "        num_ones_total = val_tracks_ones.shape[0]\n",
    "        num_zeros_total = val_tracks_zeros.shape[0]       \n",
    "        \n",
    "        ind_ones = np.random.choice(num_ones_total, num_ones)\n",
    "        sub_val_tracks_ones = val_tracks_ones[ind_ones]\n",
    "        sub_val_playlists_ones = val_playlists_ones[ind_ones]\n",
    "        sub_val_values_ones = np.ones((num_ones,))\n",
    "        \n",
    "        ind_zeros = np.random.choice(num_zeros_total, num_zeros)\n",
    "        sub_val_tracks_zeros = val_tracks_zeros[ind_zeros]\n",
    "        sub_val_playlists_zeros = val_playlists_zeros[ind_zeros]\n",
    "        sub_val_values_zeros = np.zeros((num_zeros,))\n",
    "        \n",
    "        sub_val_tracks = np.concatenate((sub_val_tracks_ones,sub_val_tracks_zeros))\n",
    "        sub_val_playlists = np.concatenate((sub_val_playlists_ones,sub_val_playlists_zeros))\n",
    "        sub_val_values = np.concatenate((sub_val_values_ones,sub_val_values_zeros))\n",
    "        sub_val_target = ohe.transform(sub_val_values.reshape(-1,1)).toarray()\n",
    "        \n",
    "        yield [sub_val_playlists, sub_val_tracks], sub_val_target"
   ]
  },
  {
   "cell_type": "markdown",
   "metadata": {},
   "source": [
    "## Model training\n",
    "***\n",
    "We set up checkpoints during the training process, saving models every 10 epochs. Later we can look at the training history and pick a model based on ***validation loss***, since the model can overfit during the extended training process (total 500 epochs)."
   ]
  },
  {
   "cell_type": "code",
   "execution_count": 14,
   "metadata": {},
   "outputs": [],
   "source": [
    "# set checkpoints\n",
    "filepath = \"models_10000_rand/model.{epoch:02d}-{val_loss:.2f}-{val_acc:.2f}.h5\"\n",
    "\n",
    "checkpoint = ModelCheckpoint(filepath, monitor='val_loss', \n",
    "                             verbose=2, save_best_only=False, mode='auto', period=20)\n",
    "callbacks_list = [checkpoint]"
   ]
  },
  {
   "cell_type": "code",
   "execution_count": 52,
   "metadata": {},
   "outputs": [],
   "source": [
    "# fit model with validation data\n",
    "history = model.fit_generator(trainGenerator(sps_two, ohe, batch_size=20000, balance_ratio=0.5), \n",
    "                              epochs=600, steps_per_epoch = 1, verbose=2, workers=1, use_multiprocessing=False,\n",
    "                              validation_data=valGenerator_balance(val_tracks_ones, val_playlists_ones, \n",
    "                                                                   val_tracks_zeros, val_playlists_zeros, \n",
    "                                                                   ohe, val_batch_size=10000, balance_ratio = 0.5),\n",
    "                              validation_steps=1,\n",
    "                              callbacks=callbacks_list)"
   ]
  },
  {
   "cell_type": "code",
   "execution_count": 18,
   "metadata": {},
   "outputs": [],
   "source": [
    "# save final model, training history, test/val data, and training matrix\n",
    "model.save('final_model_10000_rand_181211.h5')\n",
    "\n",
    "history = history.history\n",
    "with open('model_history_10000_rand_181211.pkl', 'wb') as f0:\n",
    "    pickle.dump(history, f0)\n",
    "\n",
    "with open('test_tracks_10000_rand_181211.pkl', 'wb') as f1:\n",
    "    pickle.dump(test_tracks, f1)\n",
    "with open('test_playlists_10000_rand_181211.pkl', 'wb') as f2:\n",
    "    pickle.dump(test_playlists, f2)\n",
    "with open('test_values_10000_rand_181211.pkl', 'wb') as f3:\n",
    "    pickle.dump(test_values, f3)\n",
    "    \n",
    "with open('val_tracks_10000_rand_181211.pkl', 'wb') as f4:\n",
    "    pickle.dump(val_tracks, f4)\n",
    "with open('val_playlists_10000_rand_181211.pkl', 'wb') as f5:\n",
    "    pickle.dump(val_playlists, f5)\n",
    "with open('val_values_10000_rand_181211.pkl', 'wb') as f6:\n",
    "    pickle.dump(val_values, f6)\n",
    "    \n",
    "with open('sps_two_10000_rand_181211.pkl', 'wb') as f7:\n",
    "    pickle.dump(sps_two, f7)"
   ]
  },
  {
   "cell_type": "markdown",
   "metadata": {},
   "source": [
    "## Training history\n",
    "***\n",
    "Plotted below is the training/validation loss during the training process. Both the training/validation loss dropped rapidly during the first 100 epochs, and and started to slow down between epoch 100 to 200. The training and validation loss started to diverge after epoch 200, as the training loss kept going down but the validation loss started to increase. "
   ]
  },
  {
   "cell_type": "code",
   "execution_count": 53,
   "metadata": {},
   "outputs": [
    {
     "data": {
      "image/png": "[encoded data removed]",
      "text/plain": [
       "<Figure size 576x432 with 1 Axes>"
      ]
     },
     "metadata": {
      "needs_background": "light"
     },
     "output_type": "display_data"
    }
   ],
   "source": [
    "# plot loss of training process\n",
    "fig, ax = plt.subplots(1,1,figsize = (8,6))\n",
    "ax.plot(history['loss'],'b',label = 'Training')\n",
    "ax.plot(history['val_loss'],'r',label='Validation')\n",
    "ax.legend()\n",
    "ax.set(xlabel='Epoch',ylabel = 'Loss', title= 'Loss');"
   ]
  },
  {
   "cell_type": "markdown",
   "metadata": {},
   "source": [
    "We can also look at the accuracy of training and validation data. It reflected similar trend as indicated by the loss."
   ]
  },
  {
   "cell_type": "code",
   "execution_count": 54,
   "metadata": {},
   "outputs": [
    {
     "data": {
      "image/png": "[encoded data removed]",
      "text/plain": [
       "<Figure size 576x432 with 1 Axes>"
      ]
     },
     "metadata": {
      "needs_background": "light"
     },
     "output_type": "display_data"
    }
   ],
   "source": [
    "# plot accuaracy of training process\n",
    "fig, ax = plt.subplots(1,1,figsize = (8,6))\n",
    "ax.plot(history['acc'],'b',label = 'Training')\n",
    "ax.plot(history['val_acc'],'r',label='Validation')\n",
    "ax.legend()\n",
    "ax.set(xlabel='Epoch',ylabel = 'Accuracy', title= 'Accuracy');"
   ]
  },
  {
   "cell_type": "markdown",
   "metadata": {},
   "source": [
    "## Function to plot confusion matrix\n",
    "***\n",
    "We used the visualization function for confusion matrix from __[sklearn website](https://scikit-learn.org/stable/auto_examples/model_selection/plot_confusion_matrix.html#sphx-glr-auto-examples-model-selection-plot-confusion-matrix-py)__."
   ]
  },
  {
   "cell_type": "code",
   "execution_count": 34,
   "metadata": {},
   "outputs": [],
   "source": [
    "def plot_confusion_matrix(cm, classes,\n",
    "                          normalize=False,\n",
    "                          title='Confusion matrix',\n",
    "                          cmap=plt.cm.Blues):\n",
    "    \"\"\"\n",
    "    This function prints and plots the confusion matrix.\n",
    "    Normalization can be applied by setting `normalize=True`.\n",
    "    \"\"\"\n",
    "    if normalize:\n",
    "        cm = cm.astype('float') / cm.sum(axis=1)[:, np.newaxis]\n",
    "        print(\"Normalized confusion matrix\")\n",
    "    else:\n",
    "        print('Confusion matrix, without normalization')\n",
    "\n",
    "    print(cm)\n",
    "\n",
    "    plt.imshow(cm, interpolation='nearest', cmap=cmap)\n",
    "    plt.title(title)\n",
    "    plt.colorbar()\n",
    "    tick_marks = np.arange(len(classes))\n",
    "    plt.xticks(tick_marks, classes, rotation=45)\n",
    "    plt.yticks(tick_marks, classes)\n",
    "\n",
    "    fmt = '.2f' if normalize else 'd'\n",
    "    thresh = cm.max() / 2.\n",
    "    for i, j in itertools.product(range(cm.shape[0]), range(cm.shape[1])):\n",
    "        plt.text(j, i, format(cm[i, j], fmt),\n",
    "                 horizontalalignment=\"center\",\n",
    "                 color=\"white\" if cm[i, j] > thresh else \"black\")\n",
    "\n",
    "    plt.ylabel('True label')\n",
    "    plt.xlabel('Predicted label')\n",
    "    plt.tight_layout()"
   ]
  },
  {
   "cell_type": "markdown",
   "metadata": {},
   "source": [
    "## Evaluate the model\n",
    "***\n",
    "First, we evaluted the performance of the final model on test set. The accuracy was 97% before class balancing, and 75% after class balancing, which was really close to the training and validation performance at the final epochs."
   ]
  },
  {
   "cell_type": "code",
   "execution_count": 42,
   "metadata": {},
   "outputs": [
    {
     "name": "stdout",
     "output_type": "stream",
     "text": [
      "42845250/42845250 [==============================] - 1265s 30us/step\n",
      "Loss on test data = 0.0913167645157834 \n",
      "Accuracy on test data = 0.9683511357735105\n"
     ]
    }
   ],
   "source": [
    "# evaluate test data\n",
    "test_target = keras.utils.to_categorical(test_values, num_classes=2)\n",
    "test_result = model.evaluate([test_playlists, test_tracks],test_target)\n",
    "print('Loss on test data =', test_result[0],\n",
    "      '\\nAccuracy on test data =', test_result[1])"
   ]
  },
  {
   "cell_type": "code",
   "execution_count": 41,
   "metadata": {},
   "outputs": [
    {
     "name": "stdout",
     "output_type": "stream",
     "text": [
      "Loss on test data = 0.9937882089614868 \n",
      "Accuracy on test data = 0.7507510006427764\n"
     ]
    }
   ],
   "source": [
    "# evaluate test data (class balanced) \n",
    "is_ones_test = np.array(test_values).reshape(-1,)==1\n",
    "test_tracks_ones = test_tracks[is_ones_test]\n",
    "test_playlists_ones = test_playlists[is_ones_test]\n",
    "\n",
    "test_tracks_zeros = test_tracks[~is_ones_test]\n",
    "test_playlists_zeros = test_playlists[~is_ones_test]\n",
    "\n",
    "test_result_gen = model.evaluate_generator(valGenerator_balance(test_tracks_ones, test_playlists_ones, \n",
    "                                                                test_tracks_zeros, test_playlists_zeros, \n",
    "                                                                ohe, val_batch_size= 20000, balance_ratio = 0.5),\n",
    "                                           steps = 100, verbose = 0)\n",
    "print('Loss on test data =', test_result_gen[0],\n",
    "      '\\nAccuracy on test data =', test_result_gen[1])"
   ]
  },
  {
   "cell_type": "markdown",
   "metadata": {},
   "source": [
    "## Prediction and confusion matrix\n",
    "***\n",
    "We then made the prediction on test data and plotted confusion matrix (both non-normalized and normalized). The final model had sensitivity 53% (predicting class 1 from real class 1) and specificity of 97% (predicting class 0 from real 0). Notice that there were a lot of false positive samples, since we have an extremely unbalanced class ratio. Those samples would potentially be the ones that we make recommendation on."
   ]
  },
  {
   "cell_type": "code",
   "execution_count": 43,
   "metadata": {},
   "outputs": [
    {
     "name": "stdout",
     "output_type": "stream",
     "text": [
      "predicted proportion of ones = 0.031673802813614114\n"
     ]
    }
   ],
   "source": [
    "# get prediction\n",
    "y_prob = model.predict([test_playlists, test_tracks])\n",
    "y_classes = y_prob.argmax(axis=-1)\n",
    "print('predicted proportion of ones =', np.mean(y_classes))"
   ]
  },
  {
   "cell_type": "code",
   "execution_count": 44,
   "metadata": {},
   "outputs": [
    {
     "name": "stdout",
     "output_type": "stream",
     "text": [
      "Confusion matrix, without normalization\n",
      "[[41480535  1348361]\n",
      " [    7643     8711]]\n"
     ]
    },
    {
     "data": {
      "image/png": "[encoded data removed]",
      "text/plain": [
       "<Figure size 432x288 with 2 Axes>"
      ]
     },
     "metadata": {
      "needs_background": "light"
     },
     "output_type": "display_data"
    }
   ],
   "source": [
    "# compute and plot confusion matrix\n",
    "cm = confusion_matrix(test_values, y_classes)\n",
    "plot_confusion_matrix(cm, classes=[0,1],normalize=False,\n",
    "                      title='Confusion matrix, without normalization')"
   ]
  },
  {
   "cell_type": "code",
   "execution_count": 45,
   "metadata": {},
   "outputs": [
    {
     "name": "stdout",
     "output_type": "stream",
     "text": [
      "Normalized confusion matrix\n",
      "[[0.96851749 0.03148251]\n",
      " [0.46734744 0.53265256]]\n"
     ]
    },
    {
     "data": {
      "image/png": "[encoded data removed]",
      "text/plain": [
       "<Figure size 432x288 with 2 Axes>"
      ]
     },
     "metadata": {
      "needs_background": "light"
     },
     "output_type": "display_data"
    }
   ],
   "source": [
    "# plot confusion matrix (normalized)\n",
    "plot_confusion_matrix(cm, classes=[0,1],normalize=True,\n",
    "                      title='Confusion matrix, with normalization')"
   ]
  },
  {
   "cell_type": "markdown",
   "metadata": {},
   "source": [
    "We can also quantify the model performance using area under ROC."
   ]
  },
  {
   "cell_type": "code",
   "execution_count": 46,
   "metadata": {},
   "outputs": [
    {
     "name": "stdout",
     "output_type": "stream",
     "text": [
      "auROC = 0.7505850277437294\n"
     ]
    }
   ],
   "source": [
    "# calculate auROC\n",
    "auroc_test = roc_auc_score(test_values, y_classes)\n",
    "print('auROC =', auroc_test)"
   ]
  },
  {
   "cell_type": "markdown",
   "metadata": {},
   "source": [
    "## Evaluation and prediction with the model of lowest validation loss\n",
    "***\n",
    "Since the final model might be a little bit overfitting according to the training histry, we went back and found the model with lowest validation loss (around epoch 220) that we saved as checkpoints, and evaluated the performance with it. "
   ]
  },
  {
   "cell_type": "code",
   "execution_count": 39,
   "metadata": {},
   "outputs": [],
   "source": [
    "# load best model\n",
    "best_model_file = \"models_10000_rand/model.200-0.50-0.76.h5\"\n",
    "best_model = load_model(best_model_file)"
   ]
  },
  {
   "cell_type": "code",
   "execution_count": 47,
   "metadata": {},
   "outputs": [
    {
     "name": "stdout",
     "output_type": "stream",
     "text": [
      "42845250/42845250 [==============================] - 1337s 31us/step\n",
      "Loss on test data = 0.3521598268120076 \n",
      "Accuracy on test data = 0.8817210542592236\n"
     ]
    }
   ],
   "source": [
    "# evaluate test data with the best model\n",
    "test_target_best = keras.utils.to_categorical(test_values, num_classes=2)\n",
    "test_result_best = best_model.evaluate([test_playlists, test_tracks],test_target)\n",
    "print('Loss on test data =', test_result_best[0],\n",
    "      '\\nAccuracy on test data =', test_result_best[1])"
   ]
  },
  {
   "cell_type": "code",
   "execution_count": 40,
   "metadata": {},
   "outputs": [
    {
     "name": "stdout",
     "output_type": "stream",
     "text": [
      "Loss on test data (class balanced) = 0.4995765554904938 \n",
      "Accuracy on test data (class balanced) = 0.764355999827385\n"
     ]
    }
   ],
   "source": [
    "# evaluate test data (class balanced) with the best model \n",
    "test_result_best_gen = best_model.evaluate_generator(valGenerator_balance(test_tracks_ones, test_playlists_ones, \n",
    "                                                                          test_tracks_zeros, test_playlists_zeros, \n",
    "                                                                          ohe, val_batch_size= 20000, balance_ratio = 0.5), \n",
    "                                                 steps = 100, verbose = 0)\n",
    "print('Loss on test data (class balanced) =', test_result_best_gen[0],\n",
    "      '\\nAccuracy on test data (class balanced) =', test_result_best_gen[1])"
   ]
  },
  {
   "cell_type": "markdown",
   "metadata": {},
   "source": [
    "We can see that the final model and the model with lowest validation loss performed similarly on class balanced test data (75% vs. 76%), but the final model out-performed on the test data with real class ratio (97% vs. 88%).\n",
    "***\n",
    "We can look at the confusion matrix, too."
   ]
  },
  {
   "cell_type": "code",
   "execution_count": 48,
   "metadata": {},
   "outputs": [
    {
     "name": "stdout",
     "output_type": "stream",
     "text": [
      "predicted proportion of ones = 0.11839219049953029\n"
     ]
    }
   ],
   "source": [
    "# get prediction on test data with the best model \n",
    "y_prob_best = best_model.predict([test_playlists, test_tracks])\n",
    "y_classes_best = y_prob_best.argmax(axis=-1)\n",
    "print('predicted proportion of ones =', np.mean(y_classes_best))"
   ]
  },
  {
   "cell_type": "code",
   "execution_count": 49,
   "metadata": {},
   "outputs": [
    {
     "name": "stdout",
     "output_type": "stream",
     "text": [
      "Confusion matrix, without normalization\n",
      "[[37766956  5061940]\n",
      " [    5751    10603]]\n"
     ]
    },
    {
     "data": {
      "image/png": "[encoded data removed]",
      "text/plain": [
       "<Figure size 432x288 with 2 Axes>"
      ]
     },
     "metadata": {
      "needs_background": "light"
     },
     "output_type": "display_data"
    }
   ],
   "source": [
    "# compute and plot confusion matrix with the best model \n",
    "cm_best = confusion_matrix(test_values, y_classes_best)\n",
    "plot_confusion_matrix(cm_best, classes=[0,1],normalize=False,\n",
    "                      title='Confusion matrix, without normalization')"
   ]
  },
  {
   "cell_type": "code",
   "execution_count": 50,
   "metadata": {},
   "outputs": [
    {
     "name": "stdout",
     "output_type": "stream",
     "text": [
      "Normalized confusion matrix\n",
      "[[0.88181017 0.11818983]\n",
      " [0.35165709 0.64834291]]\n"
     ]
    },
    {
     "data": {
      "image/png": "[encoded data removed]",
      "text/plain": [
       "<Figure size 432x288 with 2 Axes>"
      ]
     },
     "metadata": {
      "needs_background": "light"
     },
     "output_type": "display_data"
    }
   ],
   "source": [
    "# plot confusion matrix (normalized) with the best model \n",
    "plot_confusion_matrix(cm_best, classes=[0,1],normalize=True,\n",
    "                      title='Confusion matrix, with normalization')"
   ]
  },
  {
   "cell_type": "code",
   "execution_count": 51,
   "metadata": {},
   "outputs": [
    {
     "name": "stdout",
     "output_type": "stream",
     "text": [
      "auROC = 0.7650765407927385\n"
     ]
    }
   ],
   "source": [
    "# calculate auROC\n",
    "auroc_test_best = roc_auc_score(test_values, y_classes_best)\n",
    "print('auROC =', auroc_test_best)"
   ]
  },
  {
   "cell_type": "markdown",
   "metadata": {},
   "source": [
    "The model with lowest validation loss had a higher sensitivity (65%) and lower specificity (88%) compared to the final model. The area under ROC was similar. "
   ]
  },
  {
   "cell_type": "markdown",
   "metadata": {},
   "source": [
    "## Comparison between models\n",
    "***\n",
    "When we looked at the normalized confusion matrix, we found that this model gave higher sensitivity on class 1 samples but lower specificity on class 0 samples compared to the final model. Since the validation data was also sampled in a class-balance way, it is biased toward the balanced statistics. But when we trained the model for longer, it learned the closer-to-real statistics of the original data, so it did well on the test set with original class values. The area under ROC metric for both models were quite similar. We think that both models were fine. The final model might give better accuracy on predicting playlist-track contingency, thus a talored recommendation to individual playlists, whereas the model with lowest validation loss had higher \"false positive rate\", which would generate a more extended list of recommendation."
   ]
  }
 ],
 "metadata": {
  "kernelspec": {
   "display_name": "Python 3",
   "language": "python",
   "name": "python3"
  },
  "language_info": {
   "codemirror_mode": {
    "name": "ipython",
    "version": 3
   },
   "file_extension": ".py",
   "mimetype": "text/x-python",
   "name": "python",
   "nbconvert_exporter": "python",
   "pygments_lexer": "ipython3",
   "version": "3.6.6"
  }
 },
 "nbformat": 4,
 "nbformat_minor": 2
}
