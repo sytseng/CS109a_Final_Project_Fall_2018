{
 "cells": [
  {
   "cell_type": "code",
   "execution_count": 14,
   "metadata": {
    "collapsed": true
   },
   "outputs": [],
   "source": [
    "import sys, os\n",
    "import sqlite3\n",
    "import pandas as pd\n",
    "import json\n",
    "import numpy as np\n",
    "import matplotlib\n",
    "import matplotlib.pyplot as plt\n",
    "import seaborn as sns\n",
    "%matplotlib inline\n",
    "\n",
    "from math import factorial as fact"
   ]
  },
  {
   "cell_type": "markdown",
   "metadata": {},
   "source": [
    "## Exploration of the Jaccard Index\n",
    "\n",
    "In this part of the EDA, we will explore the importance of the Jaccard index as an indicator of similarity among songs. \n",
    "\n",
    "\n",
    "Before doing so, we have to connect to the database we have already created."
   ]
  },
  {
   "cell_type": "code",
   "execution_count": 15,
   "metadata": {
    "collapsed": true
   },
   "outputs": [],
   "source": [
    "# create a new database by connecting to it\n",
    "conn = sqlite3.connect(\"spotifyDB.db\")\n",
    "cur = conn.cursor()"
   ]
  },
  {
   "cell_type": "code",
   "execution_count": 16,
   "metadata": {},
   "outputs": [
    {
     "data": {
      "text/html": [
       "<div>\n",
       "<style scoped>\n",
       "    .dataframe tbody tr th:only-of-type {\n",
       "        vertical-align: middle;\n",
       "    }\n",
       "\n",
       "    .dataframe tbody tr th {\n",
       "        vertical-align: top;\n",
       "    }\n",
       "\n",
       "    .dataframe thead th {\n",
       "        text-align: right;\n",
       "    }\n",
       "</style>\n",
       "<table border=\"1\" class=\"dataframe\">\n",
       "  <thead>\n",
       "    <tr style=\"text-align: right;\">\n",
       "      <th></th>\n",
       "      <th>track</th>\n",
       "      <th>track_name</th>\n",
       "      <th>album</th>\n",
       "      <th>album_name</th>\n",
       "      <th>artist</th>\n",
       "      <th>artist_name</th>\n",
       "      <th>duration_ms</th>\n",
       "      <th>playlist_member</th>\n",
       "      <th>num_member</th>\n",
       "    </tr>\n",
       "  </thead>\n",
       "  <tbody>\n",
       "    <tr>\n",
       "      <th>0</th>\n",
       "      <td>4HPBYMNnpP9Yc8u51VUyaD</td>\n",
       "      <td>Mariconatico</td>\n",
       "      <td>5bZ7Jgk7YE35ULHWO3wgHP</td>\n",
       "      <td>Sincopa</td>\n",
       "      <td>07PdYoE4jVRF6Ut40GgVSP</td>\n",
       "      <td>Cartel De Santa</td>\n",
       "      <td>269333</td>\n",
       "      <td>1065,9003,10561,15769,21028,138066,147268,1567...</td>\n",
       "      <td>11</td>\n",
       "    </tr>\n",
       "    <tr>\n",
       "      <th>1</th>\n",
       "      <td>3MCMHJ0p0tD0eRQC0Wg7Wu</td>\n",
       "      <td>Headshot!</td>\n",
       "      <td>3k4aYVzOplQp6MTye2KlQ0</td>\n",
       "      <td>Unbreakable</td>\n",
       "      <td>4Uc6biA3i00oRAWvIfjhlk</td>\n",
       "      <td>MyChildren MyBride</td>\n",
       "      <td>210813</td>\n",
       "      <td>3647,14323,35549,71836,74701,98691,113560,1189...</td>\n",
       "      <td>13</td>\n",
       "    </tr>\n",
       "    <tr>\n",
       "      <th>2</th>\n",
       "      <td>2F950w5JasEsPPHfspO5yn</td>\n",
       "      <td>Know Your Onion - Spotify Sessions Curated by ...</td>\n",
       "      <td>5aeSTpjqwuarRBM1zPCbOY</td>\n",
       "      <td>Spotify Sessions</td>\n",
       "      <td>4LG4Bs1Gadht7TCrMytQUO</td>\n",
       "      <td>The Shins</td>\n",
       "      <td>152653</td>\n",
       "      <td>2136,5176,27542,55583,77394,85407,118872,18360...</td>\n",
       "      <td>11</td>\n",
       "    </tr>\n",
       "    <tr>\n",
       "      <th>3</th>\n",
       "      <td>5GAU7SP15OkPwj2tjXlUJn</td>\n",
       "      <td>Goodfriend</td>\n",
       "      <td>2kyzu2gZ1SlkrzW6l4b7dD</td>\n",
       "      <td>Feathers &amp; Fishhooks</td>\n",
       "      <td>251UrhgNbMr15NLzQ2KyKq</td>\n",
       "      <td>Rayland Baxter</td>\n",
       "      <td>266746</td>\n",
       "      <td>3626,8788,17107,49060,52900,53173,64212,66550,...</td>\n",
       "      <td>15</td>\n",
       "    </tr>\n",
       "    <tr>\n",
       "      <th>4</th>\n",
       "      <td>7bTNGfXSJthLunBJzgOyBw</td>\n",
       "      <td>Harder</td>\n",
       "      <td>5nL2ZC8NBSjMZfgpOp9P0w</td>\n",
       "      <td>FLYTRAP</td>\n",
       "      <td>41yEdWozNYEzA2RfgYQHgr</td>\n",
       "      <td>CJ Fly</td>\n",
       "      <td>177842</td>\n",
       "      <td>17432,30221,51929,53295,74242,86976,109832,139...</td>\n",
       "      <td>11</td>\n",
       "    </tr>\n",
       "  </tbody>\n",
       "</table>\n",
       "</div>"
      ],
      "text/plain": [
       "                    track                                         track_name  \\\n",
       "0  4HPBYMNnpP9Yc8u51VUyaD                                       Mariconatico   \n",
       "1  3MCMHJ0p0tD0eRQC0Wg7Wu                                          Headshot!   \n",
       "2  2F950w5JasEsPPHfspO5yn  Know Your Onion - Spotify Sessions Curated by ...   \n",
       "3  5GAU7SP15OkPwj2tjXlUJn                                         Goodfriend   \n",
       "4  7bTNGfXSJthLunBJzgOyBw                                             Harder   \n",
       "\n",
       "                    album            album_name                  artist  \\\n",
       "0  5bZ7Jgk7YE35ULHWO3wgHP               Sincopa  07PdYoE4jVRF6Ut40GgVSP   \n",
       "1  3k4aYVzOplQp6MTye2KlQ0           Unbreakable  4Uc6biA3i00oRAWvIfjhlk   \n",
       "2  5aeSTpjqwuarRBM1zPCbOY      Spotify Sessions  4LG4Bs1Gadht7TCrMytQUO   \n",
       "3  2kyzu2gZ1SlkrzW6l4b7dD  Feathers & Fishhooks  251UrhgNbMr15NLzQ2KyKq   \n",
       "4  5nL2ZC8NBSjMZfgpOp9P0w               FLYTRAP  41yEdWozNYEzA2RfgYQHgr   \n",
       "\n",
       "          artist_name  duration_ms  \\\n",
       "0     Cartel De Santa       269333   \n",
       "1  MyChildren MyBride       210813   \n",
       "2           The Shins       152653   \n",
       "3      Rayland Baxter       266746   \n",
       "4              CJ Fly       177842   \n",
       "\n",
       "                                     playlist_member  num_member  \n",
       "0  1065,9003,10561,15769,21028,138066,147268,1567...          11  \n",
       "1  3647,14323,35549,71836,74701,98691,113560,1189...          13  \n",
       "2  2136,5176,27542,55583,77394,85407,118872,18360...          11  \n",
       "3  3626,8788,17107,49060,52900,53173,64212,66550,...          15  \n",
       "4  17432,30221,51929,53295,74242,86976,109832,139...          11  "
      ]
     },
     "execution_count": 16,
     "metadata": {},
     "output_type": "execute_result"
    }
   ],
   "source": [
    "# read the table to ensure that everything is working\n",
    "pd.read_sql_query(\"select * from tracks WHERE num_member > 10 LIMIT 5;\", conn)"
   ]
  },
  {
   "cell_type": "code",
   "execution_count": 40,
   "metadata": {},
   "outputs": [
    {
     "data": {
      "text/html": [
       "<div>\n",
       "<style scoped>\n",
       "    .dataframe tbody tr th:only-of-type {\n",
       "        vertical-align: middle;\n",
       "    }\n",
       "\n",
       "    .dataframe tbody tr th {\n",
       "        vertical-align: top;\n",
       "    }\n",
       "\n",
       "    .dataframe thead th {\n",
       "        text-align: right;\n",
       "    }\n",
       "</style>\n",
       "<table border=\"1\" class=\"dataframe\">\n",
       "  <thead>\n",
       "    <tr style=\"text-align: right;\">\n",
       "      <th></th>\n",
       "      <th>track</th>\n",
       "      <th>track_name</th>\n",
       "      <th>album</th>\n",
       "      <th>album_name</th>\n",
       "      <th>artist</th>\n",
       "      <th>artist_name</th>\n",
       "      <th>duration_ms</th>\n",
       "      <th>playlist_member</th>\n",
       "      <th>num_member</th>\n",
       "    </tr>\n",
       "  </thead>\n",
       "  <tbody>\n",
       "    <tr>\n",
       "      <th>0</th>\n",
       "      <td>1Pm3fq1SC6lUlNVBGZi3Em</td>\n",
       "      <td>Concerning Hobbits (The Lord of the Rings)</td>\n",
       "      <td>3q8vR3PFV8kG1m1Iv8DpKq</td>\n",
       "      <td>Versus Hollywood</td>\n",
       "      <td>7zdmbPudNX4SQJXnYIuCTC</td>\n",
       "      <td>Daniel Tidwell</td>\n",
       "      <td>108532</td>\n",
       "      <td>2</td>\n",
       "      <td>1</td>\n",
       "    </tr>\n",
       "    <tr>\n",
       "      <th>1</th>\n",
       "      <td>6BAwTzs5CWWuaaOpp6mTeL</td>\n",
       "      <td>End It Now!</td>\n",
       "      <td>4SKnp9LlgXiEeVVud74fTS</td>\n",
       "      <td>Arrows</td>\n",
       "      <td>4Xo1N4V7w6qX23OHAPcLCe</td>\n",
       "      <td>The Lonely Forest</td>\n",
       "      <td>261146</td>\n",
       "      <td>4</td>\n",
       "      <td>1</td>\n",
       "    </tr>\n",
       "    <tr>\n",
       "      <th>2</th>\n",
       "      <td>3Ex4oMC0UeAQNAG78AuVfi</td>\n",
       "      <td>Pink City</td>\n",
       "      <td>4ukM0IdJpt2NL8F8kDebS7</td>\n",
       "      <td>A Promise</td>\n",
       "      <td>5JLqvjW3Nyom2OsRUyFsS9</td>\n",
       "      <td>Xiu Xiu</td>\n",
       "      <td>133373</td>\n",
       "      <td>4</td>\n",
       "      <td>1</td>\n",
       "    </tr>\n",
       "    <tr>\n",
       "      <th>3</th>\n",
       "      <td>17q3q8wMWgYB8HoqZNNMRT</td>\n",
       "      <td>So Much Love So Little Time</td>\n",
       "      <td>3jlchQb5BMfS7Cug5iceJn</td>\n",
       "      <td>Live A Little Love A Lot</td>\n",
       "      <td>5juac7bFYyLKmV0VGSyaKM</td>\n",
       "      <td>Moose</td>\n",
       "      <td>202533</td>\n",
       "      <td>4</td>\n",
       "      <td>1</td>\n",
       "    </tr>\n",
       "    <tr>\n",
       "      <th>4</th>\n",
       "      <td>6AAWJJ0zamfEVReLLDj4BC</td>\n",
       "      <td>Screaming</td>\n",
       "      <td>5xxnHsOdealeAwAjfJfWH6</td>\n",
       "      <td>. . . XYZ</td>\n",
       "      <td>5juac7bFYyLKmV0VGSyaKM</td>\n",
       "      <td>Moose</td>\n",
       "      <td>233733</td>\n",
       "      <td>4</td>\n",
       "      <td>1</td>\n",
       "    </tr>\n",
       "    <tr>\n",
       "      <th>5</th>\n",
       "      <td>1KVU56xCG8SqaXRjf9n4Da</td>\n",
       "      <td>Crush The Camera</td>\n",
       "      <td>0ZvFi6ooJJOuMuMWfHAstk</td>\n",
       "      <td>10:1</td>\n",
       "      <td>2JSc53B5cQ31m0xTB7JFpG</td>\n",
       "      <td>Rogue Wave</td>\n",
       "      <td>180666</td>\n",
       "      <td>4</td>\n",
       "      <td>1</td>\n",
       "    </tr>\n",
       "    <tr>\n",
       "      <th>6</th>\n",
       "      <td>7331X4zR3C2eaLh5iHN98k</td>\n",
       "      <td>Interference</td>\n",
       "      <td>5mmZbh9XqQaR0AEeevo5TS</td>\n",
       "      <td>Interference / Smile &amp; Gesture</td>\n",
       "      <td>3X03NfrYVLMXS2kz13t5WU</td>\n",
       "      <td>Lets Kill Janice</td>\n",
       "      <td>212661</td>\n",
       "      <td>4</td>\n",
       "      <td>1</td>\n",
       "    </tr>\n",
       "    <tr>\n",
       "      <th>7</th>\n",
       "      <td>3O7HL3mzobCIxzErIMijxJ</td>\n",
       "      <td>Spread A Little Sunshine</td>\n",
       "      <td>3Ll91eivgGYSJUVnL1WV4h</td>\n",
       "      <td>Playground</td>\n",
       "      <td>3K6DKtqcjx8Vs5XEaTgZv7</td>\n",
       "      <td>The Truth</td>\n",
       "      <td>213466</td>\n",
       "      <td>4</td>\n",
       "      <td>1</td>\n",
       "    </tr>\n",
       "    <tr>\n",
       "      <th>8</th>\n",
       "      <td>5La66MFvn7AX8ZjXu2s8l8</td>\n",
       "      <td>Kalte Wut / Wenn Ich Einmal Reich Bin</td>\n",
       "      <td>6u6ISXvYPQkgzAQ170HUO0</td>\n",
       "      <td>Lucky Streik</td>\n",
       "      <td>04QGT0sr98LHIUjqPJ4RG4</td>\n",
       "      <td>Floh de Cologne</td>\n",
       "      <td>313066</td>\n",
       "      <td>4</td>\n",
       "      <td>1</td>\n",
       "    </tr>\n",
       "    <tr>\n",
       "      <th>9</th>\n",
       "      <td>3vUTaQZGXUTqgYWNUZiNW8</td>\n",
       "      <td>Love's Been Good To Me</td>\n",
       "      <td>27MGNEcpVfyejgypNIkogw</td>\n",
       "      <td>One by One</td>\n",
       "      <td>62JorFOkIjXHHU7GMT9r77</td>\n",
       "      <td>Rod McKuen</td>\n",
       "      <td>183493</td>\n",
       "      <td>4</td>\n",
       "      <td>1</td>\n",
       "    </tr>\n",
       "  </tbody>\n",
       "</table>\n",
       "</div>"
      ],
      "text/plain": [
       "                    track                                  track_name  \\\n",
       "0  1Pm3fq1SC6lUlNVBGZi3Em  Concerning Hobbits (The Lord of the Rings)   \n",
       "1  6BAwTzs5CWWuaaOpp6mTeL                                 End It Now!   \n",
       "2  3Ex4oMC0UeAQNAG78AuVfi                                   Pink City   \n",
       "3  17q3q8wMWgYB8HoqZNNMRT                 So Much Love So Little Time   \n",
       "4  6AAWJJ0zamfEVReLLDj4BC                                   Screaming   \n",
       "5  1KVU56xCG8SqaXRjf9n4Da                            Crush The Camera   \n",
       "6  7331X4zR3C2eaLh5iHN98k                                Interference   \n",
       "7  3O7HL3mzobCIxzErIMijxJ                    Spread A Little Sunshine   \n",
       "8  5La66MFvn7AX8ZjXu2s8l8       Kalte Wut / Wenn Ich Einmal Reich Bin   \n",
       "9  3vUTaQZGXUTqgYWNUZiNW8                      Love's Been Good To Me   \n",
       "\n",
       "                    album                      album_name  \\\n",
       "0  3q8vR3PFV8kG1m1Iv8DpKq                Versus Hollywood   \n",
       "1  4SKnp9LlgXiEeVVud74fTS                          Arrows   \n",
       "2  4ukM0IdJpt2NL8F8kDebS7                       A Promise   \n",
       "3  3jlchQb5BMfS7Cug5iceJn        Live A Little Love A Lot   \n",
       "4  5xxnHsOdealeAwAjfJfWH6                       . . . XYZ   \n",
       "5  0ZvFi6ooJJOuMuMWfHAstk                            10:1   \n",
       "6  5mmZbh9XqQaR0AEeevo5TS  Interference / Smile & Gesture   \n",
       "7  3Ll91eivgGYSJUVnL1WV4h                      Playground   \n",
       "8  6u6ISXvYPQkgzAQ170HUO0                    Lucky Streik   \n",
       "9  27MGNEcpVfyejgypNIkogw                      One by One   \n",
       "\n",
       "                   artist        artist_name  duration_ms playlist_member  \\\n",
       "0  7zdmbPudNX4SQJXnYIuCTC     Daniel Tidwell       108532               2   \n",
       "1  4Xo1N4V7w6qX23OHAPcLCe  The Lonely Forest       261146               4   \n",
       "2  5JLqvjW3Nyom2OsRUyFsS9            Xiu Xiu       133373               4   \n",
       "3  5juac7bFYyLKmV0VGSyaKM              Moose       202533               4   \n",
       "4  5juac7bFYyLKmV0VGSyaKM              Moose       233733               4   \n",
       "5  2JSc53B5cQ31m0xTB7JFpG         Rogue Wave       180666               4   \n",
       "6  3X03NfrYVLMXS2kz13t5WU   Lets Kill Janice       212661               4   \n",
       "7  3K6DKtqcjx8Vs5XEaTgZv7          The Truth       213466               4   \n",
       "8  04QGT0sr98LHIUjqPJ4RG4    Floh de Cologne       313066               4   \n",
       "9  62JorFOkIjXHHU7GMT9r77         Rod McKuen       183493               4   \n",
       "\n",
       "   num_member  \n",
       "0           1  \n",
       "1           1  \n",
       "2           1  \n",
       "3           1  \n",
       "4           1  \n",
       "5           1  \n",
       "6           1  \n",
       "7           1  \n",
       "8           1  \n",
       "9           1  "
      ]
     },
     "execution_count": 40,
     "metadata": {},
     "output_type": "execute_result"
    }
   ],
   "source": [
    "# read the table\n",
    "pd.read_sql_query(\"select * from playlists LIMIT 5;\", conn)"
   ]
  },
  {
   "cell_type": "markdown",
   "metadata": {},
   "source": [
    "First of all, here we define functions that we will later use. "
   ]
  },
  {
   "cell_type": "code",
   "execution_count": 7,
   "metadata": {
    "collapsed": true
   },
   "outputs": [],
   "source": [
    "# this function creates all the unique pairwise combination of tracks within a playlist\n",
    "def create_pair_from_playlist(playlist_id):\n",
    "    query = 'SELECT tracks FROM playlists WHERE playlist_id = {};'.format(playlist_id)\n",
    "    all_tracks = pd.read_sql_query(query, conn)\n",
    "    ids = all_tracks['tracks'].values[0].split(',')\n",
    "    track_pairs = [(track1, track2) for i, track1 in enumerate(ids) \n",
    "               for j, track2 in enumerate(ids) if i<j]\n",
    "    return track_pairs"
   ]
  },
  {
   "cell_type": "code",
   "execution_count": 8,
   "metadata": {
    "collapsed": true
   },
   "outputs": [],
   "source": [
    "# this function returns jaccard index between a pair of tracks (in tuple)\n",
    "def similarity_btw_pair(pair_tuple):\n",
    "    track_id1 = pair_tuple[0]\n",
    "    track_id2 = pair_tuple[1]\n",
    "    query = 'SELECT playlist_member, num_member FROM tracks WHERE track IN (\"{}\",\"{}\");'.format(track_id1, track_id2)\n",
    "    track_data = pd.read_sql_query(query, conn)\n",
    "    \n",
    "    mem1 = track_data['playlist_member'].values[0].split(',')\n",
    "    mem2 = track_data['playlist_member'].values[1].split(',')\n",
    "    num1 = track_data['num_member'].values[0]\n",
    "    num2 = track_data['num_member'].values[1]\n",
    "    # take intersect and union\n",
    "    intersect = len(set(mem1).intersection(mem2))\n",
    "    union = len(list(set(mem1) | set(mem1)))\n",
    "    \n",
    "    jaccard = intersect/union\n",
    "    \n",
    "    por1 = intersect/num1\n",
    "    por2 = intersect/num2\n",
    "    \n",
    "    return jaccard, intersect, union, por1, por2"
   ]
  },
  {
   "cell_type": "markdown",
   "metadata": {},
   "source": [
    "## Jaccard index mean"
   ]
  },
  {
   "cell_type": "markdown",
   "metadata": {},
   "source": [
    "We will pick 1000 different playlists, and then compute the mean Jaccard index from all the possible song combinations within each playlist. \n",
    "\n",
    "Then, we will use the average number of songs within a playlist to pick random songs from the database, and thus find the mean Jaccard index for 1000 sets of random songs (not bootstrapped)."
   ]
  },
  {
   "cell_type": "markdown",
   "metadata": {},
   "source": [
    "Here, we take 1000 random playlists:"
   ]
  },
  {
   "cell_type": "code",
   "execution_count": 54,
   "metadata": {
    "collapsed": true
   },
   "outputs": [],
   "source": [
    "# Pick 1000 random playlists\n",
    "N = 1000\n",
    "\n",
    "playlists = pd.read_sql_query('SELECT * FROM playlists ORDER BY RANDOM() LIMIT {};'.format(N), conn)"
   ]
  },
  {
   "cell_type": "code",
   "execution_count": 70,
   "metadata": {
    "collapsed": true
   },
   "outputs": [],
   "source": [
    "# How many songs per playlist?\n",
    "\n",
    "mean_tracks = playlists[['num_tracks']].mean()"
   ]
  },
  {
   "cell_type": "code",
   "execution_count": 56,
   "metadata": {
    "collapsed": true
   },
   "outputs": [],
   "source": [
    "# Saving the jaccard means\n",
    "\n",
    "# ATTENTION-- this cell takes hours to run.\n",
    "\n",
    "jaccard_means = []\n",
    "\n",
    "for i, playlist in playlists.iterrows():\n",
    "    playlist_id = playlist.playlist_id\n",
    "    track_pairs = create_pair_from_playlist(playlist_id)\n",
    "    jaccard = []\n",
    "\n",
    "    for pair_tuple in track_pairs:\n",
    "        j,_,_,_,_ = similarity_btw_pair(pair_tuple)\n",
    "        jaccard.append(j)\n",
    "        \n",
    "    jaccard = np.array(jaccard)\n",
    "    jaccard_mean = np.mean(jaccard)\n",
    "    \n",
    "    jaccard_means.append(jaccard_mean)\n",
    "    "
   ]
  },
  {
   "cell_type": "code",
   "execution_count": 66,
   "metadata": {},
   "outputs": [
    {
     "data": {
      "image/png": "[encoded data removed]",
      "text/plain": [
       "<Figure size 432x288 with 1 Axes>"
      ]
     },
     "metadata": {
      "needs_background": "light"
     },
     "output_type": "display_data"
    }
   ],
   "source": [
    "# Distribution of the LOG of the jaccard index means\n",
    "\n",
    "plt.hist(np.log(jaccard_means));\n",
    "plt.title('Jaccard Index- means for indices within playlists')"
   ]
  },
  {
   "cell_type": "markdown",
   "metadata": {},
   "source": [
    "## For the random playlists:\n",
    "\n",
    "To find out how many random tracks we need to pick in order to explore the indices between random songs (instead of songs that exists in the same playlist), we need to compute the possible combinations of track from a 67 track playlist (67 an example mean size of a playlist), given by:\n",
    "$$ \\frac{n!}{(n-k)! k!}$$\n",
    "where n = 67 and k =2.\n",
    "\n",
    "In order to create the random pairs from which the Jaccard indices will be calculated, we will pick twice that number of tracks, split the list of them into two, and then pair the two resulting lists up."
   ]
  },
  {
   "cell_type": "code",
   "execution_count": 115,
   "metadata": {
    "collapsed": true
   },
   "outputs": [],
   "source": [
    "#For the number of random tracks:\n",
    "\n",
    "mean_tracks_int = int(mean_tracks)\n",
    "\n",
    "# Multiply by 2 because we intend to split the list\n",
    "n_rand_tracks = int(2 *fact(mean_tracks_int)/(fact(mean_tracks_int-2)*fact(2)))"
   ]
  },
  {
   "cell_type": "code",
   "execution_count": null,
   "metadata": {
    "collapsed": true
   },
   "outputs": [],
   "source": [
    "# Function that splits a list into two\n",
    "\n",
    "def split_list(A):\n",
    "    half = len(A)//2\n",
    "    B = A[:half]\n",
    "    C = A[half:]\n",
    "    \n",
    "    return B, C"
   ]
  },
  {
   "cell_type": "code",
   "execution_count": null,
   "metadata": {
    "collapsed": true
   },
   "outputs": [],
   "source": [
    "# Find random tracks, make sure there's no duplicates, split list and join as tuples (ONLY ONE)\n",
    "\n",
    "rand_tracks = pd.read_sql_query('SELECT track FROM tracks ORDER BY RANDOM() LIMIT {};'.format(n_rand_tracks), conn)\n",
    "rand_tracks = list(set(rand_tracks[['track']].values[:,0]))\n",
    "\n",
    "rand_list_a, rand_list_b = split_list(rand_tracks)\n",
    "rand_tracks_paired = list(zip(rand_list_a, rand_list_b))\n"
   ]
  },
  {
   "cell_type": "code",
   "execution_count": null,
   "metadata": {
    "collapsed": true
   },
   "outputs": [],
   "source": [
    "# Compute jaccard for one\n",
    "\n",
    "jaccard_temp=[]\n",
    "for pair in rand_tracks_paired:\n",
    "    j_rand,_,_,_,_ = similarity_btw_pair(pair)\n",
    "    jaccard_temp.append(j_rand)\n",
    "    \n",
    "jaccard_temp = np.array(jaccard_temp)\n",
    "mean_pls = np.mean(jaccard_temp)"
   ]
  },
  {
   "cell_type": "code",
   "execution_count": 116,
   "metadata": {
    "collapsed": true
   },
   "outputs": [],
   "source": [
    "# Random tracks jaccard means\n",
    "\n",
    "jaccard_rand_means = []\n",
    "for i in range(N):\n",
    "    rand_tracks = pd.read_sql_query('SELECT track FROM tracks ORDER BY RANDOM() LIMIT {};'.format(n_rand_tracks), conn)\n",
    "    rand_tracks = list(set(rand_tracks[['track']].values[:,0]))\n",
    "\n",
    "    rand_list_a, rand_list_b = split_list(rand_tracks)\n",
    "    rand_tracks_paired = list(zip(rand_list_a, rand_list_b))\n",
    "    \n",
    "    jaccard_temp=[]\n",
    "    for pair in rand_tracks_paired:\n",
    "        j_rand,_,_,_,_ = similarity_btw_pair(pair)\n",
    "        jaccard_temp.append(j_rand)\n",
    "\n",
    "    jaccard_temp = np.array(jaccard_temp)\n",
    "    mean_rand_jaccard = np.mean(jaccard_temp)\n",
    "    \n",
    "    jaccard_rand_means.append(mean_rand_jaccard)\n",
    "    i += 1\n",
    "    "
   ]
  },
  {
   "cell_type": "code",
   "execution_count": 124,
   "metadata": {},
   "outputs": [
    {
     "data": {
      "text/plain": [
       "<matplotlib.legend.Legend at 0x1a16925e48>"
      ]
     },
     "execution_count": 124,
     "metadata": {},
     "output_type": "execute_result"
    },
    {
     "data": {
      "image/png": "[encoded data removed]",
      "text/plain": [
       "<Figure size 720x504 with 1 Axes>"
      ]
     },
     "metadata": {
      "needs_background": "light"
     },
     "output_type": "display_data"
    }
   ],
   "source": [
    "# Plot\n",
    "\n",
    "plt.figure(figsize = (10,7))\n",
    "plt.title('Mean Jaccard index, N = {}'.format(N))\n",
    "plt.hist(jaccard_means, label='Within  a playlist')\n",
    "plt.hist(jaccard_rand_means, label='From random sample')\n",
    "plt.xlabel('Jaccard index')\n",
    "plt.ylabel('Frequency')\n",
    "plt.legend()"
   ]
  },
  {
   "cell_type": "markdown",
   "metadata": {},
   "source": [
    "From this histogram, we see that there's clearly two separate populations-- the Jaccard index is much larger for songs that are 'related' (they're together in playlists)."
   ]
  },
  {
   "cell_type": "markdown",
   "metadata": {},
   "source": [
    "---------"
   ]
  },
  {
   "cell_type": "markdown",
   "metadata": {},
   "source": [
    "## Content analysis: Can we predict a Jaccard index from audio features?"
   ]
  },
  {
   "cell_type": "markdown",
   "metadata": {},
   "source": [
    "First of all, we can pick a random song, and explore what playlists it is in. Instead of just looking at the Jaccard index between it and a single playlist it is in, it would be more interesting to explore songs from ALL the playlists it is in, and then compare it to random songs.\n",
    "\n",
    "Essentially, we will try to see if there's a linear connection between the audio features of a song, and the Jaccard index between it and a random other song.\n",
    "\n",
    "We are picking an equal distribution of random songs, and songs that populate the same playlists as the reference song, in order to ensure that there's a distribution of Jaccard indices (given that most will hae an index of zero).\n"
   ]
  },
  {
   "cell_type": "code",
   "execution_count": 247,
   "metadata": {
    "collapsed": true
   },
   "outputs": [],
   "source": [
    "# First, pick a random track\n",
    "\n",
    "track_EDA = pd.read_sql_query(\"SELECT * from tracks WHERE num_member > 3 ORDER BY RANDOM() LIMIT 1;\", conn)"
   ]
  },
  {
   "cell_type": "code",
   "execution_count": 265,
   "metadata": {
    "collapsed": true
   },
   "outputs": [],
   "source": [
    "# Parse all the playlists for a single track:\n",
    "\n",
    "track_EDA_playlists = track_EDA[['playlist_member']].values[0]\n",
    "track_EDA_playlists = [x.strip() for x in track_EDA_playlists[0].split(',')]\n",
    "track_EDA_playlists = [int(x) for x in track_EDA_playlists]\n"
   ]
  },
  {
   "cell_type": "code",
   "execution_count": 290,
   "metadata": {
    "collapsed": true
   },
   "outputs": [],
   "source": [
    "# Find all tracks that should have a higher Jaccard index from the playlists\n",
    "EDA_ids = []\n",
    "for playlist_id in track_EDA_playlists:\n",
    "    query = 'SELECT tracks FROM playlists WHERE playlist_id = {};'.format(playlist_id)\n",
    "    all_tracks = pd.read_sql_query(query, conn)\n",
    "    ids = all_tracks['tracks'].values[0].split(',')\n",
    "    EDA_ids.append(ids)\n",
    "\n",
    "# Flatten the list\n",
    "EDA_ids = [item for sublist in EDA_ids for item in sublist]\n",
    "\n",
    "# Make unique and drop track\n",
    "EDA_ids = list(set(EDA_ids))\n",
    "\n",
    "track1 = track_EDA[['track']].values[0][0]\n",
    "\n",
    "# Ensure that the tracks do NOT contain the track itself\n",
    "EDA_ids.remove(track1)\n",
    "\n",
    "\n",
    "# Make tuples\n",
    "\n",
    "track_pairs_EDA = [(track1, track2) for track2 in EDA_ids]\n"
   ]
  },
  {
   "cell_type": "code",
   "execution_count": 291,
   "metadata": {
    "collapsed": true
   },
   "outputs": [],
   "source": [
    "# Between this song and random songs:\n",
    "\n",
    "len_EDA = len(EDA_ids)\n",
    "\n",
    "# Then pick the same number of songs\n",
    "\n",
    "tracks_rand_EDA = pd.read_sql_query(\"SELECT * from tracks ORDER BY RANDOM() LIMIT {};\".format(len_EDA), conn)\n"
   ]
  },
  {
   "cell_type": "code",
   "execution_count": 292,
   "metadata": {
    "collapsed": true
   },
   "outputs": [],
   "source": [
    "# Place the IDs of the random song into a list, and ensure only unique values\n",
    "\n",
    "EDA_rand_ids = tracks_rand_EDA['track'].values.tolist()\n",
    "EDA_rand_ids = list(set(EDA_rand_ids))\n",
    "\n",
    "# Make sure the reference song itself is not in the playlist\n",
    "try:\n",
    "    EDA_rand_ids.remove(track1)\n",
    "except:\n",
    "    pass\n",
    "\n",
    "# Concatenate lists\n",
    "EDA_ids = EDA_ids+EDA_rand_ids\n",
    "\n",
    "# Create tuples\n",
    "track_pairs_EDA = [(track1, track2) for track2 in EDA_ids]"
   ]
  },
  {
   "cell_type": "code",
   "execution_count": 293,
   "metadata": {
    "collapsed": true
   },
   "outputs": [],
   "source": [
    "# Jaccard\n",
    "jaccard_EDA = []\n",
    "\n",
    "for pair_tuple in track_pairs_EDA:\n",
    "    j_EDA,_,_,_,_ = similarity_btw_pair(pair_tuple)\n",
    "    jaccard_EDA.append(j_EDA)\n",
    "    "
   ]
  },
  {
   "cell_type": "code",
   "execution_count": 294,
   "metadata": {
    "collapsed": true
   },
   "outputs": [],
   "source": [
    "# Collect audio features:\n",
    "import spotipy as sp\n",
    "import spotipy.oauth2 as oauth2\n",
    "import sqlite3\n",
    "import pandas as pd\n",
    "\n",
    "# set up authorization token\n",
    "credentials = oauth2.SpotifyClientCredentials(\n",
    "        client_id='client_id',\n",
    "        client_secret='client_secret')\n",
    "\n",
    "token = credentials.get_access_token()\n",
    "spotify = sp.Spotify(auth=token)"
   ]
  },
  {
   "cell_type": "code",
   "execution_count": 295,
   "metadata": {},
   "outputs": [
    {
     "name": "stdout",
     "output_type": "stream",
     "text": [
      "retrying ...1secs\n",
      "retrying ...1secs\n",
      "retrying ...1secs\n",
      "retrying ...1secs\n",
      "retrying ...1secs\n",
      "retrying ...1secs\n",
      "retrying ...1secs\n",
      "retrying ...1secs\n",
      "retrying ...1secs\n",
      "retrying ...1secs\n",
      "retrying ...1secs\n",
      "retrying ...1secs\n",
      "retrying ...1secs\n",
      "retrying ...1secs\n",
      "retrying ...1secs\n"
     ]
    }
   ],
   "source": [
    "# All audio features -- for regression purposes\n",
    "\n",
    "danceability = []\n",
    "energy = []\n",
    "key = []\n",
    "loudness = []\n",
    "mode = []\n",
    "speechiness = []\n",
    "acousticness = []\n",
    "instrumentalness = []\n",
    "liveness = []\n",
    "valence = []\n",
    "tempo = []\n",
    "duration_ms = []\n",
    "time_signature = []\n",
    "\n",
    "# Collect into lists:\n",
    "\n",
    "for track_id in EDA_ids:\n",
    "    results = spotify.audio_features(tracks=track_id)\n",
    "    \n",
    "    # Add into lists\n",
    "    danceability.append(results[0]['danceability'])\n",
    "    energy.append(results[0]['energy'])\n",
    "    key.append(results[0]['key'])\n",
    "    loudness.append(results[0]['loudness'])\n",
    "    mode.append(results[0]['mode'])\n",
    "    speechiness.append(results[0]['speechiness'])\n",
    "    acousticness.append(results[0]['acousticness'])\n",
    "    instrumentalness.append(results[0]['instrumentalness'])\n",
    "    liveness.append(results[0]['liveness'])\n",
    "    valence.append(results[0]['valence'])\n",
    "    tempo.append(results[0]['tempo'])\n",
    "    duration_ms.append(results[0]['duration_ms'])\n",
    "    time_signature.append(results[0]['time_signature'])\n",
    "    \n",
    "    "
   ]
  },
  {
   "cell_type": "code",
   "execution_count": 296,
   "metadata": {
    "collapsed": true
   },
   "outputs": [],
   "source": [
    "# Create a dict, in order to make a pandas DataFrame\n",
    "EDA_data = {}\n",
    "\n",
    "EDA_data['ids']= EDA_ids\n",
    "EDA_data['jaccard_EDA'] = jaccard_EDA\n",
    "\n",
    "# Audio features\n",
    "EDA_data['danceability']= danceability\n",
    "EDA_data['energy']= energy\n",
    "EDA_data['key']= key\n",
    "EDA_data['loudness']= loudness\n",
    "EDA_data['mode']= mode\n",
    "EDA_data['speechiness']= speechiness\n",
    "EDA_data['acousticness']= acousticness\n",
    "EDA_data['instrumentalness']= instrumentalness\n",
    "EDA_data['liveness']= liveness\n",
    "EDA_data['valence']= valence\n",
    "EDA_data['tempo']= tempo\n",
    "EDA_data['duration_ms']= duration_ms\n",
    "EDA_data['time_signature']= time_signature\n",
    "\n",
    "EDA_results = pd.DataFrame.from_dict(EDA_data)"
   ]
  },
  {
   "cell_type": "code",
   "execution_count": 384,
   "metadata": {},
   "outputs": [
    {
     "data": {
      "text/html": [
       "<div>\n",
       "<style scoped>\n",
       "    .dataframe tbody tr th:only-of-type {\n",
       "        vertical-align: middle;\n",
       "    }\n",
       "\n",
       "    .dataframe tbody tr th {\n",
       "        vertical-align: top;\n",
       "    }\n",
       "\n",
       "    .dataframe thead th {\n",
       "        text-align: right;\n",
       "    }\n",
       "</style>\n",
       "<table border=\"1\" class=\"dataframe\">\n",
       "  <thead>\n",
       "    <tr style=\"text-align: right;\">\n",
       "      <th></th>\n",
       "      <th>ids</th>\n",
       "      <th>jaccard_EDA</th>\n",
       "      <th>danceability</th>\n",
       "      <th>energy</th>\n",
       "      <th>key</th>\n",
       "      <th>loudness</th>\n",
       "      <th>mode</th>\n",
       "      <th>speechiness</th>\n",
       "      <th>acousticness</th>\n",
       "      <th>instrumentalness</th>\n",
       "      <th>liveness</th>\n",
       "      <th>valence</th>\n",
       "      <th>tempo</th>\n",
       "      <th>duration_ms</th>\n",
       "      <th>time_signature</th>\n",
       "    </tr>\n",
       "  </thead>\n",
       "  <tbody>\n",
       "    <tr>\n",
       "      <th>0</th>\n",
       "      <td>6pK6XXI3JHudVtl77QAfhh</td>\n",
       "      <td>0.024390</td>\n",
       "      <td>0.547</td>\n",
       "      <td>0.395</td>\n",
       "      <td>0</td>\n",
       "      <td>-9.654</td>\n",
       "      <td>0</td>\n",
       "      <td>0.0396</td>\n",
       "      <td>0.7850</td>\n",
       "      <td>0.000016</td>\n",
       "      <td>0.1240</td>\n",
       "      <td>0.697</td>\n",
       "      <td>140.992</td>\n",
       "      <td>197293</td>\n",
       "      <td>4</td>\n",
       "    </tr>\n",
       "    <tr>\n",
       "      <th>1</th>\n",
       "      <td>5BsOb3PMGwsMKTRpkabonh</td>\n",
       "      <td>0.073171</td>\n",
       "      <td>0.655</td>\n",
       "      <td>0.692</td>\n",
       "      <td>6</td>\n",
       "      <td>-11.728</td>\n",
       "      <td>1</td>\n",
       "      <td>0.0303</td>\n",
       "      <td>0.1640</td>\n",
       "      <td>0.000000</td>\n",
       "      <td>0.8210</td>\n",
       "      <td>0.668</td>\n",
       "      <td>111.253</td>\n",
       "      <td>183827</td>\n",
       "      <td>4</td>\n",
       "    </tr>\n",
       "    <tr>\n",
       "      <th>2</th>\n",
       "      <td>1dFITmhIit06htQ6dBRQOS</td>\n",
       "      <td>0.500000</td>\n",
       "      <td>0.830</td>\n",
       "      <td>0.649</td>\n",
       "      <td>8</td>\n",
       "      <td>-6.789</td>\n",
       "      <td>0</td>\n",
       "      <td>0.1510</td>\n",
       "      <td>0.0829</td>\n",
       "      <td>0.000220</td>\n",
       "      <td>0.0792</td>\n",
       "      <td>0.456</td>\n",
       "      <td>123.979</td>\n",
       "      <td>367960</td>\n",
       "      <td>4</td>\n",
       "    </tr>\n",
       "    <tr>\n",
       "      <th>3</th>\n",
       "      <td>7Lg5osturAd2VUP1rf0tEU</td>\n",
       "      <td>0.024390</td>\n",
       "      <td>0.369</td>\n",
       "      <td>0.477</td>\n",
       "      <td>7</td>\n",
       "      <td>-8.836</td>\n",
       "      <td>1</td>\n",
       "      <td>0.0354</td>\n",
       "      <td>0.7180</td>\n",
       "      <td>0.000037</td>\n",
       "      <td>0.1040</td>\n",
       "      <td>0.524</td>\n",
       "      <td>94.904</td>\n",
       "      <td>189213</td>\n",
       "      <td>4</td>\n",
       "    </tr>\n",
       "    <tr>\n",
       "      <th>4</th>\n",
       "      <td>27wLc0cxnw9IbhRMyMeBmR</td>\n",
       "      <td>0.333333</td>\n",
       "      <td>0.775</td>\n",
       "      <td>0.553</td>\n",
       "      <td>1</td>\n",
       "      <td>-10.512</td>\n",
       "      <td>1</td>\n",
       "      <td>0.0308</td>\n",
       "      <td>0.4850</td>\n",
       "      <td>0.842000</td>\n",
       "      <td>0.0453</td>\n",
       "      <td>0.820</td>\n",
       "      <td>120.005</td>\n",
       "      <td>286093</td>\n",
       "      <td>4</td>\n",
       "    </tr>\n",
       "  </tbody>\n",
       "</table>\n",
       "</div>"
      ],
      "text/plain": [
       "                      ids  jaccard_EDA  danceability  energy  key  loudness  \\\n",
       "0  6pK6XXI3JHudVtl77QAfhh     0.024390         0.547   0.395    0    -9.654   \n",
       "1  5BsOb3PMGwsMKTRpkabonh     0.073171         0.655   0.692    6   -11.728   \n",
       "2  1dFITmhIit06htQ6dBRQOS     0.500000         0.830   0.649    8    -6.789   \n",
       "3  7Lg5osturAd2VUP1rf0tEU     0.024390         0.369   0.477    7    -8.836   \n",
       "4  27wLc0cxnw9IbhRMyMeBmR     0.333333         0.775   0.553    1   -10.512   \n",
       "\n",
       "   mode  speechiness  acousticness  instrumentalness  liveness  valence  \\\n",
       "0     0       0.0396        0.7850          0.000016    0.1240    0.697   \n",
       "1     1       0.0303        0.1640          0.000000    0.8210    0.668   \n",
       "2     0       0.1510        0.0829          0.000220    0.0792    0.456   \n",
       "3     1       0.0354        0.7180          0.000037    0.1040    0.524   \n",
       "4     1       0.0308        0.4850          0.842000    0.0453    0.820   \n",
       "\n",
       "     tempo  duration_ms  time_signature  \n",
       "0  140.992       197293               4  \n",
       "1  111.253       183827               4  \n",
       "2  123.979       367960               4  \n",
       "3   94.904       189213               4  \n",
       "4  120.005       286093               4  "
      ]
     },
     "execution_count": 384,
     "metadata": {},
     "output_type": "execute_result"
    }
   ],
   "source": [
    "# Resulting pd:\n",
    "EDA_results.head()"
   ]
  },
  {
   "cell_type": "code",
   "execution_count": 314,
   "metadata": {
    "collapsed": true
   },
   "outputs": [],
   "source": [
    "# Split into train and test sets\n",
    "from sklearn.model_selection import train_test_split\n",
    "\n",
    "# Response and independent variables:\n",
    "X_vars = EDA_results[['danceability', 'energy', 'key', 'loudness', 'mode','speechiness', \\\n",
    "                      'acousticness','instrumentalness','liveness', 'valence', 'tempo', \\\n",
    "                      'duration_ms', 'time_signature']]\n",
    "\n",
    "response = EDA_results[['jaccard_EDA']]\n",
    "\n",
    "# Split:\n",
    "Xtrain, Xtest, ytrain, ytest = train_test_split(X_vars,response,test_size=0.2)"
   ]
  },
  {
   "cell_type": "markdown",
   "metadata": {},
   "source": [
    "\n",
    "# Random Forest Regression using OOB (lab 9)\n",
    "\n",
    "In order to do the regression, we can start with a random forest."
   ]
  },
  {
   "cell_type": "code",
   "execution_count": 331,
   "metadata": {},
   "outputs": [
    {
     "data": {
      "text/plain": [
       "odict_values([[200, 400, 600, 800], [0.2, 0.4, 0.6, 0.8]])"
      ]
     },
     "execution_count": 331,
     "metadata": {},
     "output_type": "execute_result"
    }
   ],
   "source": [
    "from sklearn.ensemble import RandomForestRegressor\n",
    "\n",
    "# Code from lab 9, and:\n",
    "# Adventures in scikit-learn's Random Forest by Gregory Saunders\n",
    "from itertools import product\n",
    "from collections import OrderedDict\n",
    "\n",
    "param_dict = OrderedDict(\n",
    "    n_estimators = [200, 400, 600, 800],\n",
    "    max_features = [0.2, 0.4, 0.6, 0.8]\n",
    ")\n",
    "\n",
    "param_dict.values()"
   ]
  },
  {
   "cell_type": "code",
   "execution_count": 332,
   "metadata": {
    "collapsed": true
   },
   "outputs": [],
   "source": [
    "from itertools import product"
   ]
  },
  {
   "cell_type": "code",
   "execution_count": 333,
   "metadata": {},
   "outputs": [
    {
     "data": {
      "text/plain": [
       "(600, 0.2)"
      ]
     },
     "execution_count": 333,
     "metadata": {},
     "output_type": "execute_result"
    }
   ],
   "source": [
    "# Use Random Forest, and pick the best combination:\n",
    "ytrain = np.ravel(ytrain)\n",
    "RF_results = {}\n",
    "RF_estimators = {}\n",
    "for Ntrees, maxfeat in product(*param_dict.values()):\n",
    "    params = (Ntrees, maxfeat)\n",
    "    RF = RandomForestRegressor(oob_score=True, \n",
    "                                n_estimators=Ntrees, max_features=maxfeat, max_depth=50)\n",
    "    RF.fit(Xtrain, ytrain)\n",
    "    RF_results[params] = RF.oob_score_\n",
    "    RF_estimators[params] = RF\n",
    "best_params = max(RF_results, key = RF_results.get)\n",
    "best_params"
   ]
  },
  {
   "cell_type": "code",
   "execution_count": 344,
   "metadata": {},
   "outputs": [
    {
     "name": "stdout",
     "output_type": "stream",
     "text": [
      "The resulting accuracy from the RF is 7.116939558688562 %\n"
     ]
    }
   ],
   "source": [
    "# Check accuracy\n",
    "RF_final = RF_estimators[best_params]\n",
    "print('The resulting accuracy from the RF is', RF_final.score(Xtest, ytest)*100, '%')"
   ]
  },
  {
   "cell_type": "code",
   "execution_count": 2,
   "metadata": {},
   "outputs": [
    {
     "ename": "NameError",
     "evalue": "name 'pd' is not defined",
     "output_type": "error",
     "traceback": [
      "\u001b[0;31m---------------------------------------------------------------------------\u001b[0m",
      "\u001b[0;31mNameError\u001b[0m                                 Traceback (most recent call last)",
      "\u001b[0;32m<ipython-input-2-39fa6f540894>\u001b[0m in \u001b[0;36m<module>\u001b[0;34m()\u001b[0m\n\u001b[1;32m      1\u001b[0m \u001b[0;31m# Plot based on significance\u001b[0m\u001b[0;34m\u001b[0m\u001b[0;34m\u001b[0m\u001b[0m\n\u001b[0;32m----> 2\u001b[0;31m \u001b[0mpd\u001b[0m\u001b[0;34m.\u001b[0m\u001b[0mSeries\u001b[0m\u001b[0;34m(\u001b[0m\u001b[0mRF_final\u001b[0m\u001b[0;34m.\u001b[0m\u001b[0mfeature_importances_\u001b[0m\u001b[0;34m,\u001b[0m\u001b[0mindex\u001b[0m\u001b[0;34m=\u001b[0m\u001b[0mlist\u001b[0m\u001b[0;34m(\u001b[0m\u001b[0mXtrain\u001b[0m\u001b[0;34m)\u001b[0m\u001b[0;34m)\u001b[0m\u001b[0;34m.\u001b[0m\u001b[0msort_values\u001b[0m\u001b[0;34m(\u001b[0m\u001b[0;34m)\u001b[0m\u001b[0;34m.\u001b[0m\u001b[0mplot\u001b[0m\u001b[0;34m(\u001b[0m\u001b[0mkind\u001b[0m\u001b[0;34m=\u001b[0m\u001b[0;34m\"barh\"\u001b[0m\u001b[0;34m)\u001b[0m\u001b[0;34m\u001b[0m\u001b[0m\n\u001b[0m",
      "\u001b[0;31mNameError\u001b[0m: name 'pd' is not defined"
     ]
    }
   ],
   "source": [
    "# Plot based on significance\n",
    "pd.Series(RF_final.feature_importances_,index=list(Xtrain)).sort_values().plot(kind=\"barh\")"
   ]
  },
  {
   "cell_type": "markdown",
   "metadata": {},
   "source": [
    "This is very low accuracy, so regression does not seem too appealing. In any case, we can try a different method before rejecting the regression based on linearity.\n"
   ]
  },
  {
   "cell_type": "markdown",
   "metadata": {},
   "source": [
    "## Boosting\n",
    "\n",
    "Last effort before rejecting this method will be boosting, using the \"best predictors\" from the previous analysis."
   ]
  },
  {
   "cell_type": "code",
   "execution_count": 359,
   "metadata": {
    "collapsed": true
   },
   "outputs": [],
   "source": [
    "# Drop the worst predictors\n",
    "ind_todrop = [index for index, value in enumerate(RF_final.feature_importances_) \\\n",
    "              if value < RF_final.score(Xtest, ytest)*0.5]\n",
    "\n",
    "Xtrain_new = Xtrain.copy()\n",
    "\n",
    "for ind in ind_todrop:\n",
    "    col_todrop = Xtrain.columns[ind]\n",
    "    Xtrain_new.drop(col_todrop, axis = 1)\n",
    "    "
   ]
  },
  {
   "cell_type": "markdown",
   "metadata": {},
   "source": [
    "We're going to use the best parameters from the random forest eda"
   ]
  },
  {
   "cell_type": "code",
   "execution_count": 372,
   "metadata": {
    "collapsed": true
   },
   "outputs": [],
   "source": [
    "#Fit an Adaboost Model\n",
    "\n",
    "from sklearn.ensemble import AdaBoostRegressor\n",
    "from sklearn.tree import DecisionTreeRegressor\n",
    "\n",
    "boosts = {}\n",
    "boost_results = {}\n",
    "\n",
    "for n in range(2,20):\n",
    "    boost_model = AdaBoostRegressor(base_estimator=DecisionTreeRegressor(max_depth=n),\\\n",
    "                                    n_estimators=best_params[0],\\\n",
    "                                    learning_rate=0.05)\n",
    "    boost_model.fit(Xtrain_new, ytrain)\n",
    "    boosts[str(n)] = boost_model\n",
    "    \n",
    "    boost_results[str(n)] = boost_model.score(Xtest, ytest)\n",
    "    "
   ]
  },
  {
   "cell_type": "code",
   "execution_count": 381,
   "metadata": {},
   "outputs": [
    {
     "name": "stdout",
     "output_type": "stream",
     "text": [
      "The best boosting model has a max_depth of 11 with a score of 8.28111106007271%\n"
     ]
    }
   ],
   "source": [
    "#Best depth accuracy\n",
    "\n",
    "best_depth = max(boost_results, key = boost_results.get)\n",
    "boost_final_score = boost_results[best_depth]\n",
    "\n",
    "print('The best boosting model has a max_depth of {0} with a score of {1}%'.format(best_depth,100*boost_final_score))\n"
   ]
  },
  {
   "cell_type": "markdown",
   "metadata": {},
   "source": [
    "This is stillnot a satisfactory accuracy score, which shows the need for both a different content-based analysis, and a collaborative filtering approach."
   ]
  },
  {
   "cell_type": "code",
   "execution_count": 382,
   "metadata": {
    "collapsed": true
   },
   "outputs": [],
   "source": [
    "# note! always close the connection at the end\n",
    "cur.close()\n",
    "conn.close()"
   ]
  }
 ],
 "metadata": {
  "kernelspec": {
   "display_name": "Python 3 (ipykernel)",
   "language": "python",
   "name": "python3"
  },
  "language_info": {
   "codemirror_mode": {
    "name": "ipython",
    "version": 3
   },
   "file_extension": ".py",
   "mimetype": "text/x-python",
   "name": "python",
   "nbconvert_exporter": "python",
   "pygments_lexer": "ipython3",
   "version": "3.7.11"
  }
 },
 "nbformat": 4,
 "nbformat_minor": 2
}
