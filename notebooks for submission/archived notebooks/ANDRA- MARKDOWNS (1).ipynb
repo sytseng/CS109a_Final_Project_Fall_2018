{
 "cells": [
  {
   "cell_type": "markdown",
   "metadata": {},
   "source": [
    "**add to the literature review**"
   ]
  },
  {
   "cell_type": "markdown",
   "metadata": {},
   "source": [
    "## **Principal Component Analysis (PCA)**##\n",
    "***"
   ]
  },
  {
   "cell_type": "markdown",
   "metadata": {},
   "source": [
    "A technique used to reduce the dimensionality of the feature space and find the directions of most variation in a data set. It is a useful approach for feature selection and for avoiding the curse of dimensionality. \n",
    "Performing a PCA is just finding the eigenvalues and eigenvectors of the data set's correlation matrix, $Σ=Y^TY$, where $Y=X−μX$. $X$ is an $N×M$ matrix of data points, where each row is one of the N samples and each column in one of the M features, and $μX$ is the empirical mean value of the data set."
   ]
  },
  {
   "cell_type": "markdown",
   "metadata": {},
   "source": [
    "## **k-NN algorithm**##\n",
    "***"
   ]
  },
  {
   "cell_type": "markdown",
   "metadata": {},
   "source": [
    "The k-nearest neighbors algorithm (k-NN) is a non-parametric method used for classification and regression. In both cases, the input consists of the k closest training examples in the feature space. The output depends on whether k-NN is used for classification or regression; i.e. in k-NN classification, the output is a class membership whereas in k-NN regression, the output is the property value for the object."
   ]
  },
  {
   "cell_type": "markdown",
   "metadata": {},
   "source": [
    "## **k-means clustering**##\n",
    "***"
   ]
  },
  {
   "cell_type": "markdown",
   "metadata": {},
   "source": [
    "k-means clustering is a method popular of vector quantization that is popular for cluster analysis in data mining. This algorithm aims to partition n observations into k clusters in which each observation belongs to the cluster with the nearest mean, serving as the center of the cluster, also known as the centroid."
   ]
  },
  {
   "cell_type": "markdown",
   "metadata": {},
   "source": [
    "**edit the project description**"
   ]
  },
  {
   "cell_type": "markdown",
   "metadata": {},
   "source": [
    "In creating our playlist recommender we had access to three main datasets, the Spotify Million Playlist dataset, the last.fm Million Song Dataset, and the Spotify API which provides quantitative metrics about a given track such as tempo. In this website we describe the creation of our model starting with our Exploratory Data Analysis (EDA), and the going over a review of the literature on recommender systems. We then demonstrate the Singular Value Decomposition (SVD), k-means clustering, and Neural Network Collaborative Filtering (NNCF) models that we used, and discuss their results. Finally, we present an example of playlist generation in action, to provide an intuitive sense for what our model does."
   ]
  },
  {
   "cell_type": "markdown",
   "metadata": {},
   "source": [
    "**edit conclusion**"
   ]
  },
  {
   "cell_type": "markdown",
   "metadata": {},
   "source": [
    "We used k-nn clustering to identify which tracks were similar based on their audio features. Although our model provided a content-based filtering approach, it was not very robust because the clustering of tracks was not stable. Because of the way the algorithm is built, if clustering is applied repeatedly to different samples from this distribution, it might sometimes construct the horizontal and sometimes the vertical\n",
    "solution. Obviously, these two solutions are very different from each other, hence the clustering results are instable. Therefore, the challenge with applying the k-nn clustering algorithm to recommend songs, we would have to ensure the correct number of clusters is chosen -- otherwise, the model becomes unstable."
   ]
  }
 ],
 "metadata": {
  "kernelspec": {
   "display_name": "Python 3",
   "language": "python",
   "name": "python3"
  },
  "language_info": {
   "codemirror_mode": {
    "name": "ipython",
    "version": 3
   },
   "file_extension": ".py",
   "mimetype": "text/x-python",
   "name": "python",
   "nbconvert_exporter": "python",
   "pygments_lexer": "ipython3",
   "version": "3.6.2"
  }
 },
 "nbformat": 4,
 "nbformat_minor": 2
}
