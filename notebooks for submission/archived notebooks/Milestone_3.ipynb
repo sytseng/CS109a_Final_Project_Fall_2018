{
 "cells": [
  {
   "cell_type": "markdown",
   "metadata": {},
   "source": [
    "CS109a Final Project Milestone 3 \n",
    "\n",
    "Group 32\n",
    "\n",
    "Members: Andra Fehmiu, Shih-Yi Tseng, Liam Corrigan, Alkmini Chalofti\n",
    "\n",
    "Project: Spotify project"
   ]
  },
  {
   "cell_type": "markdown",
   "metadata": {},
   "source": [
    "Import libraries"
   ]
  },
  {
   "cell_type": "code",
   "execution_count": 1,
   "metadata": {
    "collapsed": true
   },
   "outputs": [],
   "source": [
    "import sys, os\n",
    "import sqlite3\n",
    "import pandas as pd\n",
    "import json\n",
    "import numpy as np\n",
    "import matplotlib\n",
    "import matplotlib.pyplot as plt\n",
    "import seaborn as sns\n",
    "%matplotlib inline\n",
    "sns.set()"
   ]
  },
  {
   "cell_type": "markdown",
   "metadata": {},
   "source": [
    "Create/connect to database"
   ]
  },
  {
   "cell_type": "code",
   "execution_count": 2,
   "metadata": {
    "collapsed": true
   },
   "outputs": [],
   "source": [
    "# create a new database by connecting to it\n",
    "conn = sqlite3.connect(\"spotifyDB.db\")\n",
    "cur = conn.cursor()"
   ]
  },
  {
   "cell_type": "markdown",
   "metadata": {},
   "source": [
    "Create tables for playlists and tracks"
   ]
  },
  {
   "cell_type": "code",
   "execution_count": null,
   "metadata": {
    "collapsed": true
   },
   "outputs": [],
   "source": [
    "# create the tracks table\n",
    "\n",
    "cur.execute('''CREATE TABLE IF NOT EXISTS tracks (track text PRIMARY KEY,\n",
    "         track_name text, album text, album_name text, artist text, artist_name text, \n",
    "         duration_ms integer, playlist_member text, num_member integer\n",
    "         );''')\n",
    "\n",
    "conn.commit()"
   ]
  },
  {
   "cell_type": "code",
   "execution_count": null,
   "metadata": {
    "collapsed": true
   },
   "outputs": [],
   "source": [
    "# create playlists table\n",
    "\n",
    "cur.execute('''CREATE TABLE IF NOT EXISTS playlists (playlist_id INTEGER PRIMARY KEY AUTOINCREMENT,\n",
    "         playlist_name TEXT, collaborative TEXT, modified_at INTEGER, num_tracks INTEGER, num_albums INTEGER,\n",
    "         num_artists INTEGER, num_followers INTEGER, num_edits INTEGER, playlist_duration_ms INTEGER, \n",
    "         tracks TEXT);''')\n",
    "\n",
    "conn.commit()"
   ]
  },
  {
   "cell_type": "markdown",
   "metadata": {},
   "source": [
    "Collect paths to Million Playlist Files"
   ]
  },
  {
   "cell_type": "code",
   "execution_count": null,
   "metadata": {
    "collapsed": true
   },
   "outputs": [],
   "source": [
    "mpd_path ='C:\\\\Users\\\\Shih-Yi\\\\Documents\\\\mpd.v1\\\\mpd\\\\data'\n",
    "playlist_path = []\n",
    "\n",
    "for path, subdirs, files in os.walk(mpd_path):\n",
    "    for name in files:\n",
    "        if name.endswith('.json'):\n",
    "            playlist_path.append(os.path.join(path, name))"
   ]
  },
  {
   "cell_type": "markdown",
   "metadata": {},
   "source": [
    "Define functions for processing playlists data "
   ]
  },
  {
   "cell_type": "code",
   "execution_count": null,
   "metadata": {
    "collapsed": true
   },
   "outputs": [],
   "source": [
    "def process_playlist(playlist_dict):\n",
    "    columns = ['playlist_name','collaborative','modified_at','num_tracks','num_albums',\n",
    "               'num_artists','num_followers','num_edits','duration_ms']\n",
    "    \n",
    "    playlist = {}\n",
    "    \n",
    "    for col in columns:\n",
    "        if col in playlist_dict.keys():\n",
    "            playlist[col] = playlist_dict[col]\n",
    "        else:\n",
    "            playlist[col] = None\n",
    "            \n",
    "    if 'name' in playlist_dict.keys() and playlist['playlist_name'] == None:\n",
    "        playlist['playlist_name'] =playlist_dict['name']\n",
    "        \n",
    "    all_track_uri = [tr['track_uri'].split(':')[-1] for tr in playlist_dict['tracks']]\n",
    "    all_track_uri = ','.join(set(all_track_uri)) # take unique tracks\n",
    "    playlist['tracks'] = all_track_uri\n",
    "    playlist['playlist_duration_ms'] = playlist.pop('duration_ms')\n",
    "    \n",
    "    playlist_df = pd.DataFrame(playlist, index=[0])\n",
    "    playlist_df = playlist_df.set_index('playlist_name')\n",
    "    \n",
    "    return playlist_df\n",
    "\n",
    "def clean_uri(track,uri):\n",
    "    if type(track[uri])!=type(None):\n",
    "        cleaned_uri = track[uri].split(':')[-1]\n",
    "    elif type(track[uri])==type(None):\n",
    "        cleaned_uri = ''\n",
    "    return cleaned_uri \n",
    "\n",
    "def process_tracks_into_df(tracks, playlist_id):\n",
    "    # convert tracks into dataframe\n",
    "    tracks_df = pd.DataFrame.from_dict(tracks)\n",
    "    # remove duplicates of tracks\n",
    "    tracks_df = tracks_df.drop_duplicates('track_uri')\n",
    "    # clean up uri\n",
    "    tracks_df['track'] = tracks_df.apply(lambda x: clean_uri(x,'track_uri'), axis=1)\n",
    "    tracks_df['album'] = tracks_df.apply(lambda x: clean_uri(x,'album_uri'), axis=1)\n",
    "    tracks_df['artist'] = tracks_df.apply(lambda x: clean_uri(x,'artist_uri'), axis=1)\n",
    "    # drop unnecessary columns\n",
    "    tracks_df = tracks_df.drop(['pos','track_uri','album_uri','artist_uri'], axis = 1)\n",
    "    # set index to track\n",
    "    tracks_df = tracks_df.set_index('track')\n",
    "    # add playlist membership\n",
    "    tracks_df['playlist_member'] = str(playlist_id)\n",
    "    # add number of membership\n",
    "    tracks_df['num_member'] = 1\n",
    "    \n",
    "    return tracks_df\n",
    "\n",
    "def prepare_tracks_update(tracks_df, playlist_id, conn, cur):\n",
    "    # make keys of all tracks\n",
    "    tracks_in_playlist = list(tracks_df.index)\n",
    "    keys = tracks_in_playlist\n",
    "    keys = '\\',\\''.join(keys)\n",
    "    keys = \"('\"+keys+\"')\"\n",
    "    \n",
    "    # fetch existing keys\n",
    "    query = 'SELECT * FROM tracks WHERE track IN {};'.format(keys)\n",
    "    existing_tuples = pd.read_sql_query(query, conn)\n",
    "    \n",
    "    # if none of the track exists, return whole tracks_df\n",
    "    if len(existing_tuples) == 0:\n",
    "        tracks_df_new = tracks_df.copy()\n",
    "    \n",
    "    # if there are pre-existing tracks\n",
    "    elif len(existing_tuples) > 0:\n",
    "        # expand playlist membership\n",
    "        existing_tuples['playlist_member'] = existing_tuples.apply(lambda x: x.playlist_member + ',' + str(playlist_id), axis=1)\n",
    "        existing_tuples['num_member'] = existing_tuples.apply(lambda x: x.num_member + 1, axis=1)\n",
    "        existing_tuples= existing_tuples.set_index('track')\n",
    "        \n",
    "        # delete existing keys\n",
    "        query = 'DELETE FROM tracks WHERE track IN {};'.format(keys)\n",
    "        cur.execute(query)\n",
    "        conn.commit()\n",
    "\n",
    "        # extract non-existing tracks\n",
    "        existing_mask = tracks_df.index.isin(existing_tuples.index)\n",
    "        tracks_df_new = tracks_df.iloc[~existing_mask].copy()\n",
    "        \n",
    "        # combine non-exisitng tracks with updated exisiting tracks\n",
    "        tracks_df_new = tracks_df_new.append(existing_tuples)\n",
    "        \n",
    "    return tracks_df_new\n",
    "        "
   ]
  },
  {
   "cell_type": "markdown",
   "metadata": {},
   "source": [
    "Main scripts for registering data into playlists and tracks tables"
   ]
  },
  {
   "cell_type": "code",
   "execution_count": null,
   "metadata": {
    "collapsed": true
   },
   "outputs": [],
   "source": [
    "#### Main scripts\n",
    "\n",
    "# subselect half of the files\n",
    "playlist_path_sub = playlist_path[:-1:2].copy()\n",
    "\n",
    "len(playlist_path_sub)\n",
    "\n",
    "# prelocate list to host processed and unprocessed files\n",
    "processed_files = []\n",
    "unprocessed_files = playlist_path.copy()\n",
    "\n",
    "# loop over file subsets\n",
    "for file_ind, filepath in enumerate(playlist_path_sub):  \n",
    "    # keep track of files that have been processed\n",
    "    print('File number = ', file_ind)\n",
    "    unprocessed_files.remove(filepath)\n",
    "    processed_files.append(filepath)\n",
    "    \n",
    "    # load the file\n",
    "    with open(filepath, \"r\") as fd:\n",
    "        data = json.load(fd)\n",
    "    \n",
    "    # find number of playlists\n",
    "    num_playlist = len(data['playlists'])\n",
    "    \n",
    "    # loop over all playlists\n",
    "    for playlist_dict in data['playlists']:\n",
    "        # process playlist\n",
    "        this_playlist = process_playlist(playlist_dict)\n",
    "        \n",
    "        # insert playlist into playlists table\n",
    "        this_playlist.to_sql('playlists', conn, if_exists='append')\n",
    "        \n",
    "        # get playlist_id (the most recent inserted (max playlist_id))\n",
    "        query_max_id = 'SELECT MAX(playlist_id) FROM playlists;'\n",
    "        playlist_id = cur.execute(query_max_id).fetchall()[0][0]\n",
    "        \n",
    "        # get list of all tracks and process into dataframe\n",
    "        these_tracks = playlist_dict['tracks']\n",
    "        tracks_df = process_tracks_into_df(these_tracks, playlist_id)\n",
    "        \n",
    "        # get tracks dataframe for insertion\n",
    "        tracks_df_to_insert = prepare_tracks_update(tracks_df, playlist_id, conn, cur)\n",
    "        \n",
    "        # insert tracks dataframe into tracks table\n",
    "        tracks_df_to_insert.to_sql('tracks', conn, if_exists='append')\n",
    "        "
   ]
  },
  {
   "cell_type": "code",
   "execution_count": 6,
   "metadata": {},
   "outputs": [
    {
     "data": {
      "text/html": [
       "<div>\n",
       "<style>\n",
       "    .dataframe thead tr:only-child th {\n",
       "        text-align: right;\n",
       "    }\n",
       "\n",
       "    .dataframe thead th {\n",
       "        text-align: left;\n",
       "    }\n",
       "\n",
       "    .dataframe tbody tr th {\n",
       "        vertical-align: top;\n",
       "    }\n",
       "</style>\n",
       "<table border=\"1\" class=\"dataframe\">\n",
       "  <thead>\n",
       "    <tr style=\"text-align: right;\">\n",
       "      <th></th>\n",
       "      <th>playlist_id</th>\n",
       "      <th>playlist_name</th>\n",
       "      <th>collaborative</th>\n",
       "      <th>modified_at</th>\n",
       "      <th>num_tracks</th>\n",
       "      <th>num_albums</th>\n",
       "      <th>num_artists</th>\n",
       "      <th>num_followers</th>\n",
       "      <th>num_edits</th>\n",
       "      <th>playlist_duration_ms</th>\n",
       "      <th>tracks</th>\n",
       "    </tr>\n",
       "  </thead>\n",
       "  <tbody>\n",
       "    <tr>\n",
       "      <th>0</th>\n",
       "      <td>1</td>\n",
       "      <td>Throwbacks</td>\n",
       "      <td>false</td>\n",
       "      <td>1493424000</td>\n",
       "      <td>52</td>\n",
       "      <td>47</td>\n",
       "      <td>37</td>\n",
       "      <td>1</td>\n",
       "      <td>6</td>\n",
       "      <td>11532414</td>\n",
       "      <td>3BxWKCI06eQ5Od8TY2JBeA,215JYyyUnrJ98NK3KEwu6d,...</td>\n",
       "    </tr>\n",
       "    <tr>\n",
       "      <th>1</th>\n",
       "      <td>2</td>\n",
       "      <td>Awesome Playlist</td>\n",
       "      <td>false</td>\n",
       "      <td>1506556800</td>\n",
       "      <td>39</td>\n",
       "      <td>23</td>\n",
       "      <td>21</td>\n",
       "      <td>1</td>\n",
       "      <td>5</td>\n",
       "      <td>11656470</td>\n",
       "      <td>6Vz7vzOpCwKeSQlfViibuY,1HZ3cUZUw5htSFmah1V8Ko,...</td>\n",
       "    </tr>\n",
       "    <tr>\n",
       "      <th>2</th>\n",
       "      <td>3</td>\n",
       "      <td>korean</td>\n",
       "      <td>false</td>\n",
       "      <td>1505692800</td>\n",
       "      <td>64</td>\n",
       "      <td>51</td>\n",
       "      <td>31</td>\n",
       "      <td>1</td>\n",
       "      <td>18</td>\n",
       "      <td>14039958</td>\n",
       "      <td>36FPRDpKyP8hJxPhJs4G17,3VC1IEz9M1txlMSx3h3tPM,...</td>\n",
       "    </tr>\n",
       "    <tr>\n",
       "      <th>3</th>\n",
       "      <td>4</td>\n",
       "      <td>mat</td>\n",
       "      <td>false</td>\n",
       "      <td>1501027200</td>\n",
       "      <td>126</td>\n",
       "      <td>107</td>\n",
       "      <td>86</td>\n",
       "      <td>1</td>\n",
       "      <td>4</td>\n",
       "      <td>28926058</td>\n",
       "      <td>4sNG6zQBmtq7M8aeeKJRMQ,2LXPIpt45CJ2dorhMNCE0F,...</td>\n",
       "    </tr>\n",
       "    <tr>\n",
       "      <th>4</th>\n",
       "      <td>5</td>\n",
       "      <td>90s</td>\n",
       "      <td>false</td>\n",
       "      <td>1401667200</td>\n",
       "      <td>17</td>\n",
       "      <td>16</td>\n",
       "      <td>16</td>\n",
       "      <td>2</td>\n",
       "      <td>7</td>\n",
       "      <td>4335282</td>\n",
       "      <td>0c1gHntWjKD7QShC8s99sq,7p2aGxnxFYf6VLQPEYirPO,...</td>\n",
       "    </tr>\n",
       "  </tbody>\n",
       "</table>\n",
       "</div>"
      ],
      "text/plain": [
       "   playlist_id     playlist_name collaborative  modified_at  num_tracks  \\\n",
       "0            1        Throwbacks         false   1493424000          52   \n",
       "1            2  Awesome Playlist         false   1506556800          39   \n",
       "2            3           korean          false   1505692800          64   \n",
       "3            4               mat         false   1501027200         126   \n",
       "4            5               90s         false   1401667200          17   \n",
       "\n",
       "   num_albums  num_artists  num_followers  num_edits  playlist_duration_ms  \\\n",
       "0          47           37              1          6              11532414   \n",
       "1          23           21              1          5              11656470   \n",
       "2          51           31              1         18              14039958   \n",
       "3         107           86              1          4              28926058   \n",
       "4          16           16              2          7               4335282   \n",
       "\n",
       "                                              tracks  \n",
       "0  3BxWKCI06eQ5Od8TY2JBeA,215JYyyUnrJ98NK3KEwu6d,...  \n",
       "1  6Vz7vzOpCwKeSQlfViibuY,1HZ3cUZUw5htSFmah1V8Ko,...  \n",
       "2  36FPRDpKyP8hJxPhJs4G17,3VC1IEz9M1txlMSx3h3tPM,...  \n",
       "3  4sNG6zQBmtq7M8aeeKJRMQ,2LXPIpt45CJ2dorhMNCE0F,...  \n",
       "4  0c1gHntWjKD7QShC8s99sq,7p2aGxnxFYf6VLQPEYirPO,...  "
      ]
     },
     "metadata": {},
     "output_type": "display_data"
    },
    {
     "data": {
      "text/html": [
       "<div>\n",
       "<style>\n",
       "    .dataframe thead tr:only-child th {\n",
       "        text-align: right;\n",
       "    }\n",
       "\n",
       "    .dataframe thead th {\n",
       "        text-align: left;\n",
       "    }\n",
       "\n",
       "    .dataframe tbody tr th {\n",
       "        vertical-align: top;\n",
       "    }\n",
       "</style>\n",
       "<table border=\"1\" class=\"dataframe\">\n",
       "  <thead>\n",
       "    <tr style=\"text-align: right;\">\n",
       "      <th></th>\n",
       "      <th>track</th>\n",
       "      <th>track_name</th>\n",
       "      <th>album</th>\n",
       "      <th>album_name</th>\n",
       "      <th>artist</th>\n",
       "      <th>artist_name</th>\n",
       "      <th>duration_ms</th>\n",
       "      <th>playlist_member</th>\n",
       "      <th>num_member</th>\n",
       "    </tr>\n",
       "  </thead>\n",
       "  <tbody>\n",
       "    <tr>\n",
       "      <th>0</th>\n",
       "      <td>1MYYt7h6amcrauCOoso3Gx</td>\n",
       "      <td>Libera Me From Hell (Tengen Toppa Gurren Lagann)</td>\n",
       "      <td>3q8vR3PFV8kG1m1Iv8DpKq</td>\n",
       "      <td>Versus Hollywood</td>\n",
       "      <td>7zdmbPudNX4SQJXnYIuCTC</td>\n",
       "      <td>Daniel Tidwell</td>\n",
       "      <td>70294</td>\n",
       "      <td>2</td>\n",
       "      <td>1</td>\n",
       "    </tr>\n",
       "    <tr>\n",
       "      <th>1</th>\n",
       "      <td>3x2mJ2bjCIU70NrH49CtYR</td>\n",
       "      <td>Pokémon Theme</td>\n",
       "      <td>3q8vR3PFV8kG1m1Iv8DpKq</td>\n",
       "      <td>Versus Hollywood</td>\n",
       "      <td>7zdmbPudNX4SQJXnYIuCTC</td>\n",
       "      <td>Daniel Tidwell</td>\n",
       "      <td>65306</td>\n",
       "      <td>2</td>\n",
       "      <td>1</td>\n",
       "    </tr>\n",
       "    <tr>\n",
       "      <th>2</th>\n",
       "      <td>1Pm3fq1SC6lUlNVBGZi3Em</td>\n",
       "      <td>Concerning Hobbits (The Lord of the Rings)</td>\n",
       "      <td>3q8vR3PFV8kG1m1Iv8DpKq</td>\n",
       "      <td>Versus Hollywood</td>\n",
       "      <td>7zdmbPudNX4SQJXnYIuCTC</td>\n",
       "      <td>Daniel Tidwell</td>\n",
       "      <td>108532</td>\n",
       "      <td>2</td>\n",
       "      <td>1</td>\n",
       "    </tr>\n",
       "    <tr>\n",
       "      <th>3</th>\n",
       "      <td>3RGlJJFkWEavxeRQr9ivAd</td>\n",
       "      <td>He's a Pirate (Pirates of the Caribbean)</td>\n",
       "      <td>3q8vR3PFV8kG1m1Iv8DpKq</td>\n",
       "      <td>Versus Hollywood</td>\n",
       "      <td>7zdmbPudNX4SQJXnYIuCTC</td>\n",
       "      <td>Daniel Tidwell</td>\n",
       "      <td>110219</td>\n",
       "      <td>2</td>\n",
       "      <td>1</td>\n",
       "    </tr>\n",
       "    <tr>\n",
       "      <th>4</th>\n",
       "      <td>5wNOm5nP4YRv2vywrgpwIq</td>\n",
       "      <td>Fortune Only</td>\n",
       "      <td>3d2Jini2y0bgHpvbcH1lql</td>\n",
       "      <td>Only No One</td>\n",
       "      <td>3g3ew6TtLErig0QaTcSaPt</td>\n",
       "      <td>Natureboy</td>\n",
       "      <td>260175</td>\n",
       "      <td>4</td>\n",
       "      <td>1</td>\n",
       "    </tr>\n",
       "  </tbody>\n",
       "</table>\n",
       "</div>"
      ],
      "text/plain": [
       "                    track                                        track_name  \\\n",
       "0  1MYYt7h6amcrauCOoso3Gx  Libera Me From Hell (Tengen Toppa Gurren Lagann)   \n",
       "1  3x2mJ2bjCIU70NrH49CtYR                                     Pokémon Theme   \n",
       "2  1Pm3fq1SC6lUlNVBGZi3Em        Concerning Hobbits (The Lord of the Rings)   \n",
       "3  3RGlJJFkWEavxeRQr9ivAd          He's a Pirate (Pirates of the Caribbean)   \n",
       "4  5wNOm5nP4YRv2vywrgpwIq                                      Fortune Only   \n",
       "\n",
       "                    album        album_name                  artist  \\\n",
       "0  3q8vR3PFV8kG1m1Iv8DpKq  Versus Hollywood  7zdmbPudNX4SQJXnYIuCTC   \n",
       "1  3q8vR3PFV8kG1m1Iv8DpKq  Versus Hollywood  7zdmbPudNX4SQJXnYIuCTC   \n",
       "2  3q8vR3PFV8kG1m1Iv8DpKq  Versus Hollywood  7zdmbPudNX4SQJXnYIuCTC   \n",
       "3  3q8vR3PFV8kG1m1Iv8DpKq  Versus Hollywood  7zdmbPudNX4SQJXnYIuCTC   \n",
       "4  3d2Jini2y0bgHpvbcH1lql       Only No One  3g3ew6TtLErig0QaTcSaPt   \n",
       "\n",
       "      artist_name  duration_ms playlist_member  num_member  \n",
       "0  Daniel Tidwell        70294               2           1  \n",
       "1  Daniel Tidwell        65306               2           1  \n",
       "2  Daniel Tidwell       108532               2           1  \n",
       "3  Daniel Tidwell       110219               2           1  \n",
       "4       Natureboy       260175               4           1  "
      ]
     },
     "metadata": {},
     "output_type": "display_data"
    }
   ],
   "source": [
    "# check tables\n",
    "display(pd.read_sql_query(\"select * from playlists LIMIT 5;\", conn))\n",
    "display(pd.read_sql_query(\"select * from tracks LIMIT 5;\", conn))"
   ]
  },
  {
   "cell_type": "code",
   "execution_count": 7,
   "metadata": {
    "collapsed": true
   },
   "outputs": [],
   "source": [
    "# close cursor and connection\n",
    "cur.close()\n",
    "conn.close()"
   ]
  },
  {
   "cell_type": "markdown",
   "metadata": {},
   "source": [
    "EDA"
   ]
  },
  {
   "cell_type": "code",
   "execution_count": 4,
   "metadata": {},
   "outputs": [
    {
     "data": {
      "text/html": [
       "<div>\n",
       "<style>\n",
       "    .dataframe thead tr:only-child th {\n",
       "        text-align: right;\n",
       "    }\n",
       "\n",
       "    .dataframe thead th {\n",
       "        text-align: left;\n",
       "    }\n",
       "\n",
       "    .dataframe tbody tr th {\n",
       "        vertical-align: top;\n",
       "    }\n",
       "</style>\n",
       "<table border=\"1\" class=\"dataframe\">\n",
       "  <thead>\n",
       "    <tr style=\"text-align: right;\">\n",
       "      <th></th>\n",
       "      <th>num_member</th>\n",
       "    </tr>\n",
       "  </thead>\n",
       "  <tbody>\n",
       "    <tr>\n",
       "      <th>count</th>\n",
       "      <td>488099.000000</td>\n",
       "    </tr>\n",
       "    <tr>\n",
       "      <th>mean</th>\n",
       "      <td>27.692845</td>\n",
       "    </tr>\n",
       "    <tr>\n",
       "      <th>std</th>\n",
       "      <td>162.874540</td>\n",
       "    </tr>\n",
       "    <tr>\n",
       "      <th>min</th>\n",
       "      <td>2.000000</td>\n",
       "    </tr>\n",
       "    <tr>\n",
       "      <th>25%</th>\n",
       "      <td>2.000000</td>\n",
       "    </tr>\n",
       "    <tr>\n",
       "      <th>50%</th>\n",
       "      <td>4.000000</td>\n",
       "    </tr>\n",
       "    <tr>\n",
       "      <th>75%</th>\n",
       "      <td>10.000000</td>\n",
       "    </tr>\n",
       "    <tr>\n",
       "      <th>max</th>\n",
       "      <td>9858.000000</td>\n",
       "    </tr>\n",
       "  </tbody>\n",
       "</table>\n",
       "</div>"
      ],
      "text/plain": [
       "          num_member\n",
       "count  488099.000000\n",
       "mean       27.692845\n",
       "std       162.874540\n",
       "min         2.000000\n",
       "25%         2.000000\n",
       "50%         4.000000\n",
       "75%        10.000000\n",
       "max      9858.000000"
      ]
     },
     "metadata": {},
     "output_type": "display_data"
    },
    {
     "data": {
      "image/png": "[encoded data removed]",
      "text/plain": [
       "<matplotlib.figure.Figure at 0x259ba17b278>"
      ]
     },
     "metadata": {},
     "output_type": "display_data"
    }
   ],
   "source": [
    "# check number of playlist membership of tracks\n",
    "n_tr = pd.read_sql_query(\"select num_member FROM tracks WHERE num_member > 1;\", conn)\n",
    "display(n_tr.describe())\n",
    "\n",
    "mem = pd.read_sql_query(\"select num_member FROM tracks WHERE num_member > 1;\", conn)\n",
    "mem.describe()\n",
    "plt.hist(np.log(np.array(mem)),bins = 15)\n",
    "plt.xlabel('Log(number of playlist membership)', fontsize = 15)\n",
    "plt.ylabel('Count', fontsize = 15)\n",
    "plt.title('Distribution of number of playlist membership of tracks', fontsize = 15);"
   ]
  },
  {
   "cell_type": "code",
   "execution_count": 5,
   "metadata": {},
   "outputs": [
    {
     "data": {
      "text/html": [
       "<div>\n",
       "<style>\n",
       "    .dataframe thead tr:only-child th {\n",
       "        text-align: right;\n",
       "    }\n",
       "\n",
       "    .dataframe thead th {\n",
       "        text-align: left;\n",
       "    }\n",
       "\n",
       "    .dataframe tbody tr th {\n",
       "        vertical-align: top;\n",
       "    }\n",
       "</style>\n",
       "<table border=\"1\" class=\"dataframe\">\n",
       "  <thead>\n",
       "    <tr style=\"text-align: right;\">\n",
       "      <th></th>\n",
       "      <th>num_tracks</th>\n",
       "    </tr>\n",
       "  </thead>\n",
       "  <tbody>\n",
       "    <tr>\n",
       "      <th>count</th>\n",
       "      <td>215410.000000</td>\n",
       "    </tr>\n",
       "    <tr>\n",
       "      <th>mean</th>\n",
       "      <td>66.185999</td>\n",
       "    </tr>\n",
       "    <tr>\n",
       "      <th>std</th>\n",
       "      <td>53.571022</td>\n",
       "    </tr>\n",
       "    <tr>\n",
       "      <th>min</th>\n",
       "      <td>5.000000</td>\n",
       "    </tr>\n",
       "    <tr>\n",
       "      <th>25%</th>\n",
       "      <td>26.000000</td>\n",
       "    </tr>\n",
       "    <tr>\n",
       "      <th>50%</th>\n",
       "      <td>49.000000</td>\n",
       "    </tr>\n",
       "    <tr>\n",
       "      <th>75%</th>\n",
       "      <td>91.000000</td>\n",
       "    </tr>\n",
       "    <tr>\n",
       "      <th>max</th>\n",
       "      <td>250.000000</td>\n",
       "    </tr>\n",
       "  </tbody>\n",
       "</table>\n",
       "</div>"
      ],
      "text/plain": [
       "          num_tracks\n",
       "count  215410.000000\n",
       "mean       66.185999\n",
       "std        53.571022\n",
       "min         5.000000\n",
       "25%        26.000000\n",
       "50%        49.000000\n",
       "75%        91.000000\n",
       "max       250.000000"
      ]
     },
     "metadata": {},
     "output_type": "display_data"
    },
    {
     "data": {
      "text/plain": [
       "Text(0.5,1,'Distribution of number of tracks in playlists')"
      ]
     },
     "execution_count": 5,
     "metadata": {},
     "output_type": "execute_result"
    },
    {
     "data": {
      "image/png": "[encoded data removed]",
      "text/plain": [
       "<matplotlib.figure.Figure at 0x259bd741780>"
      ]
     },
     "metadata": {},
     "output_type": "display_data"
    }
   ],
   "source": [
    "# check number of of tracks in playlists\n",
    "n_tr = pd.read_sql_query(\"select num_tracks FROM playlists;\", conn)\n",
    "display(n_tr.describe())\n",
    "plt.hist(np.array(n_tr),bins = 15)\n",
    "plt.xlabel('Number of tracks in playlists', fontsize = 15)\n",
    "plt.ylabel('Count', fontsize = 15)\n",
    "plt.title('Distribution of number of tracks in playlists', fontsize = 15)"
   ]
  },
  {
   "cell_type": "code",
   "execution_count": 1,
   "metadata": {
    "collapsed": true
   },
   "outputs": [],
   "source": [
    "import json\n",
    "from pprint import pprint\n",
    "from glob import glob\n",
    "import pandas as pd\n",
    "import matplotlib.pyplot as plt\n",
    "from matplotlib.pyplot import savefig"
   ]
  },
  {
   "cell_type": "code",
   "execution_count": 2,
   "metadata": {},
   "outputs": [
    {
     "ename": "FileNotFoundError",
     "evalue": "[Errno 2] No such file or directory: 'lastfm_subset/A/A/A/TRAAABD128F429CF47.json'",
     "output_type": "error",
     "traceback": [
      "\u001b[0;31m---------------------------------------------------------------------------\u001b[0m",
      "\u001b[0;31mFileNotFoundError\u001b[0m                         Traceback (most recent call last)",
      "\u001b[0;32m<ipython-input-2-09c54355224d>\u001b[0m in \u001b[0;36m<module>\u001b[0;34m()\u001b[0m\n\u001b[1;32m      1\u001b[0m \u001b[0;31m#loads singular json as test and to demonstrate what individual song looks like\u001b[0m\u001b[0;34m\u001b[0m\u001b[0;34m\u001b[0m\u001b[0m\n\u001b[0;32m----> 2\u001b[0;31m \u001b[0;32mwith\u001b[0m \u001b[0mopen\u001b[0m\u001b[0;34m(\u001b[0m\u001b[0;34m'lastfm_subset/A/A/A/TRAAABD128F429CF47.json'\u001b[0m\u001b[0;34m)\u001b[0m \u001b[0;32mas\u001b[0m \u001b[0mf\u001b[0m\u001b[0;34m:\u001b[0m\u001b[0;34m\u001b[0m\u001b[0m\n\u001b[0m\u001b[1;32m      3\u001b[0m     \u001b[0mdata\u001b[0m \u001b[0;34m=\u001b[0m \u001b[0mjson\u001b[0m\u001b[0;34m.\u001b[0m\u001b[0mload\u001b[0m\u001b[0;34m(\u001b[0m\u001b[0mf\u001b[0m\u001b[0;34m)\u001b[0m\u001b[0;34m\u001b[0m\u001b[0m\n\u001b[1;32m      4\u001b[0m \u001b[0;34m\u001b[0m\u001b[0m\n\u001b[1;32m      5\u001b[0m \u001b[0mpprint\u001b[0m\u001b[0;34m(\u001b[0m\u001b[0mdata\u001b[0m\u001b[0;34m)\u001b[0m\u001b[0;34m\u001b[0m\u001b[0m\n",
      "\u001b[0;31mFileNotFoundError\u001b[0m: [Errno 2] No such file or directory: 'lastfm_subset/A/A/A/TRAAABD128F429CF47.json'"
     ]
    }
   ],
   "source": [
    "songs = glob(\"lastfm_train/*/*/*/*\")"
   ]
  },
  {
   "cell_type": "code",
   "execution_count": null,
   "metadata": {
    "collapsed": true
   },
   "outputs": [],
   "source": []
  }
 ],
 "metadata": {
  "kernelspec": {
   "display_name": "Python 3",
   "language": "python",
   "name": "python3"
  },
  "language_info": {
   "codemirror_mode": {
    "name": "ipython",
    "version": 3
   },
   "file_extension": ".py",
   "mimetype": "text/x-python",
   "name": "python",
   "nbconvert_exporter": "python",
   "pygments_lexer": "ipython3",
   "version": "3.6.6"
  }
 },
 "nbformat": 4,
 "nbformat_minor": 2
}
