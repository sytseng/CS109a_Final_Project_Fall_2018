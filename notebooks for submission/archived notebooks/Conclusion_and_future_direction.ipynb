{
 "cells": [
  {
   "cell_type": "markdown",
   "metadata": {},
   "source": [
    "# Conclusion and future direction\n",
    "***"
   ]
  },
  {
   "cell_type": "markdown",
   "metadata": {},
   "source": [
    "In this project, we worked on the Million Playlists Dataset and audio features of tracks from Spotify API to implement song recommender systems. We approached this goal using to different ways: ***content-based*** and ***collaborative filerting***."
   ]
  },
  {
   "cell_type": "markdown",
   "metadata": {},
   "source": [
    "## Content-based filtering\n",
    "***"
   ]
  },
  {
   "cell_type": "markdown",
   "metadata": {},
   "source": [
    "#### INSERT TEXT"
   ]
  },
  {
   "cell_type": "markdown",
   "metadata": {},
   "source": [
    "## Collaborative filtering\n",
    "***\n",
    "We used both ***matrix factorization*** and ***neural networks*** to implement collaborative filtering. We tested them on a subset of 10,000 playlists seeded with a popular song as well as a randomly selected subset, and used Jaccard index as a performance measurement."
   ]
  },
  {
   "cell_type": "markdown",
   "metadata": {},
   "source": [
    "### Matrix factorization\n"
   ]
  },
  {
   "cell_type": "markdown",
   "metadata": {},
   "source": [
    "We used singular value decomposition (SVD) for matrix factorization, testing with various number of latent factors. We found that for the seeded dataset, a small number of latent factors (5-50) was sufficient to make song recommendation that seemed to be \"similar\" (measured by the Jaccard index) to existing songs in a given playlist. When we applied SVD on the random subset, we needed a larger number of latent factors. The recommended songs were less similar to the existing songs for a given playlist, but the Jaccard index was still higher than random choices."
   ]
  },
  {
   "cell_type": "markdown",
   "metadata": {},
   "source": [
    "### Neural collaborative filtering"
   ]
  },
  {
   "cell_type": "markdown",
   "metadata": {},
   "source": [
    "We built a neural network (NNCF) to perform collaborative filtering. The network embedded high dimensional playlist/track data into a low dimensional space, and performed MF and MLP mixing in separate streams before combining the information and making final prediction. The NNCF trained on the seeded subset achieved 82% sensitivity and 94% specificity, and the Jaccard index of recommeded songs were similar to the existing songs. For the random subset, the network performance wasn't as good as the seeded ubset, but it still made song recommendation that had higher Jaccard index than random choice. Further expansion of the network structure, more training data or extended training time might be needed to increase network performance."
   ]
  },
  {
   "cell_type": "markdown",
   "metadata": {},
   "source": [
    "### Comparison and future direction"
   ]
  },
  {
   "cell_type": "markdown",
   "metadata": {},
   "source": [
    "Both matrix factorization and neural collaborative filtering seemed to give comparable results on the data we tested. In terms of computational cost, SVD is lower and faster to perform. However, neural networks have the flexibility to incorporate new data and extra information. We can expand the playlist or track number but changing the input-to-embedding structure on a network with pre-trained weights, or engineer the network to take temporal information (user history) as well, such as recent hits of specific songs. Therefore, there is a great potnetial to improve the neural network approach for song recommendation.\n",
    "\n",
    "A better version of recommender system should be a hybrid between both content-based and collaborative filtering. This could be done in a hierarchical way: using content-based methods to define clusters of tracks which limits the serach range, and then adopting collaborative filtering to generate recommendations. Alternatively, the neural collaborative filtering could also incorporate features of tracks and input, and incorporate those information into a coherent recommender system."
   ]
  }
 ],
 "metadata": {
  "kernelspec": {
   "display_name": "Python 3",
   "language": "python",
   "name": "python3"
  },
  "language_info": {
   "codemirror_mode": {
    "name": "ipython",
    "version": 3
   },
   "file_extension": ".py",
   "mimetype": "text/x-python",
   "name": "python",
   "nbconvert_exporter": "python",
   "pygments_lexer": "ipython3",
   "version": "3.6.6"
  }
 },
 "nbformat": 4,
 "nbformat_minor": 2
}
