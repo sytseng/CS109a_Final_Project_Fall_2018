{
 "cells": [
  {
   "cell_type": "markdown",
   "metadata": {},
   "source": [
    "# **Making Song Recommendation with Neural Collaborative Filtering**\n",
    "\n",
    "***\n",
    "With the neural network collaborative filtering (NNCF), we were able to make song recommendation for existing playlists. Here we used the NNCF model trained on the subset of data with randomly selected 10,000 playlists and demonstrated how we recommend new songs to those existing playlists. \n",
    "<br/><br/>\n",
    "The idea is to choose the songs that have the highest scores predicted by the network when paired with a specific playlist. We can then compute the Jaccard index of recommended songs and existing songs, and compare it to the Jaccard index between existing songs, and that between not-recommended songs and exisiting songs. A good recommendation would have a high Jaccard index (comparable to Jaccard index between existing songs).\n",
    "\n",
    "***\n",
    "First we load all the libraries."
   ]
  },
  {
   "cell_type": "code",
   "execution_count": 1,
   "metadata": {},
   "outputs": [
    {
     "name": "stderr",
     "output_type": "stream",
     "text": [
      "Using TensorFlow backend.\n"
     ]
    }
   ],
   "source": [
    "import pandas as pd\n",
    "import numpy as np\n",
    "import matplotlib\n",
    "import matplotlib.pyplot as plt\n",
    "import seaborn as sns\n",
    "import statsmodels.api as sm\n",
    "import scipy.sparse as sps\n",
    "import scipy\n",
    "import pickle\n",
    "import keras\n",
    "from keras.models import load_model\n",
    "import itertools\n",
    "%matplotlib inline\n",
    "sns.set()"
   ]
  },
  {
   "cell_type": "markdown",
   "metadata": {},
   "source": [
    "## Load data and model\n",
    "\n",
    "***\n",
    "Here we loaded the sparse matrix containing track-playlist contingency, as well as the NNCF model."
   ]
  },
  {
   "cell_type": "code",
   "execution_count": 2,
   "metadata": {},
   "outputs": [
    {
     "data": {
      "text/plain": [
       "<171381x10000 sparse matrix of type '<class 'numpy.float64'>'\n",
       "\twith 657056 stored elements in Compressed Sparse Column format>"
      ]
     },
     "execution_count": 2,
     "metadata": {},
     "output_type": "execute_result"
    }
   ],
   "source": [
    "# load files\n",
    "sps_acc = scipy.sparse.load_npz('sparse_10000_rand.npz')\n",
    "\n",
    "# convert matrix to csc type\n",
    "sps_acc = sps_acc.tocsc()\n",
    "sps_acc"
   ]
  },
  {
   "cell_type": "code",
   "execution_count": 3,
   "metadata": {},
   "outputs": [],
   "source": [
    "# load the best NNCF model\n",
    "model_file = \"models_10000_rand/model.200-0.50-0.76.h5\"\n",
    "model = load_model(model_file)\n",
    "\n",
    "# find track and playlist number\n",
    "n_tracks, n_playlists = sps_acc.shape[0], sps_acc.shape[1]"
   ]
  },
  {
   "cell_type": "markdown",
   "metadata": {},
   "source": [
    "## Define functions\n",
    "***\n",
    "Then we define several functions.\n",
    "\n",
    "- ***recommend_tracks***\n",
    "This function makes recommendation of tracks that are not currently in a specific playlist. It returns the list of tracks that were predicted by the network as class 1 but have real label class 0, sorted by the score.\n",
    "\n",
    "- ***get_jaccard***\n",
    "This function calculated the Jaccard index between a pair of tracks.\n",
    "\n",
    "- ***create_unique_pair_subset*** and ***create_pairs_btw_lists*** help creating pairs of tracks from given lists."
   ]
  },
  {
   "cell_type": "code",
   "execution_count": 4,
   "metadata": {},
   "outputs": [],
   "source": [
    "# this function returns the indices and scores for recommeded tracks given a playlist_id\n",
    "def recommend_tracks(sps_acc, playlist_ind, model):\n",
    "    pairs = [np.ones((n_tracks,))*playlist_ind, np.arange(n_tracks)]\n",
    "\n",
    "    # make prediction with the model\n",
    "    prob = model.predict(pairs)\n",
    "    pred_class = prob.argmax(axis=-1)\n",
    "\n",
    "    # extract real class label from original data\n",
    "    real_class = np.array(sps_acc[:,playlist_ind].toarray()).reshape(-1,)\n",
    "    \n",
    "    # real tracks: real class one\n",
    "    real_one_ind = np.argwhere(real_class).reshape(-1,)\n",
    "    \n",
    "    # recommended tracks: predicted class one but real class zero\n",
    "    recom = np.logical_and(pred_class == 1, real_class == 0)\n",
    "\n",
    "    # find recommeded track index and score of being one\n",
    "    recom_ind = np.argwhere(recom).reshape(-1,)\n",
    "    recom_prob = prob[recom_ind,1]\n",
    "\n",
    "    # sort recommended indices from highest score to lowest\n",
    "    recom_sort_ind = np.argsort(recom_prob)\n",
    "    recom_ind = recom_ind[recom_sort_ind[::-1]]\n",
    "\n",
    "    # not-recommended tracks: predicted class zero and real class zero\n",
    "    not_recom = np.logical_and(pred_class == 0, real_class == 0)\n",
    "\n",
    "    # find not-recommeded track index and score of being zero\n",
    "    not_recom_ind = np.argwhere(not_recom).reshape(-1,)\n",
    "    not_recom_prob = prob[not_recom_ind,0]\n",
    "\n",
    "    # sort not-recommended indices from highest score to lowest\n",
    "    not_recom_sort_ind = np.argsort(not_recom_prob)\n",
    "    not_recom_ind = not_recom_ind[not_recom_sort_ind[::-1]]\n",
    "\n",
    "\n",
    "    return recom_ind, not_recom_ind, real_one_ind"
   ]
  },
  {
   "cell_type": "code",
   "execution_count": 5,
   "metadata": {},
   "outputs": [],
   "source": [
    "# this function return jaccard index between a pair of tracks\n",
    "def get_jaccard(sps_acc, pair):\n",
    "    pair = list(pair)\n",
    "    track1 = pair[0]\n",
    "    track2 = pair[1]\n",
    "\n",
    "    mem = np.array(sps_acc[pair,:].toarray())\n",
    "\n",
    "    mem1 = np.argwhere(mem[0,:]).reshape(-1,)\n",
    "    mem2 = np.argwhere(mem[1,:]).reshape(-1,)\n",
    "\n",
    "    intersect = list(set(mem1) & set(mem2))\n",
    "    union = list(set(mem1) | set(mem2))\n",
    "    jaccard = len(intersect)/len(union)\n",
    "    \n",
    "    return jaccard"
   ]
  },
  {
   "cell_type": "code",
   "execution_count": 6,
   "metadata": {},
   "outputs": [],
   "source": [
    "# this function creates a subset of unique pair of a given list of tracks\n",
    "def create_unique_pair_subset(track_list, num):\n",
    "    track_list = list(track_list)\n",
    "    track_pairs = [(track1, track2) for i, track1 in enumerate(track_list) \n",
    "               for j, track2 in enumerate(track_list) if i<j]\n",
    "    total_num = len(track_pairs)\n",
    "    if total_num > num:\n",
    "        sub_ind = list(np.random.choice(total_num, num, replace=False))\n",
    "        track_pair_subset = [pair for idx, pair in enumerate(track_pairs) if idx in sub_ind]\n",
    "    else:\n",
    "        track_pair_subset = track_pairs\n",
    "    \n",
    "    return track_pair_subset"
   ]
  },
  {
   "cell_type": "code",
   "execution_count": 7,
   "metadata": {},
   "outputs": [],
   "source": [
    "# this function creates all pairs between 2 given lists of tracks\n",
    "def create_pairs_btw_lists(track_list1, track_list2):\n",
    "    track_list1 = list(track_list1)\n",
    "    track_list2 = list(track_list2)\n",
    "    track_pairs = [(track1, track2) for track1 in track_list1 for track2 in track_list2]\n",
    "    return track_pairs"
   ]
  },
  {
   "cell_type": "markdown",
   "metadata": {},
   "source": [
    "## Make recommendation for one playlist\n",
    "***\n",
    "Here we randomly selecte a playlist, and make recommendation of the top 10 songs with the highest scores predicted by the NNCF model. We then compute Jaccard index between the recommended songs and existing songs (***rec vs. real***), and compare that to Jaccard index between exisitng songs (***btw real***), and Jaccard index between exisitng songs and 10 randomly selected non-recommended songs (***not-rec vs. real***). Jaccard inex for ***Rrandom pairs*** of tracks was also computed as baseline."
   ]
  },
  {
   "cell_type": "code",
   "execution_count": 10,
   "metadata": {},
   "outputs": [
    {
     "name": "stdout",
     "output_type": "stream",
     "text": [
      "Mean Jaccard index\n",
      " rec vs. real = 0.0081430460371861 \n",
      " btw real = 0.03138652210942226 \n",
      " not_rec vs. real 6.969834556041452e-05 \n",
      " random pair 0.00015164196090215217\n"
     ]
    }
   ],
   "source": [
    "# randomly select one playlist and make recommendation\n",
    "playlist_id = np.random.choice(n_playlists, 1)[0]\n",
    "\n",
    "# number of recommended tracks\n",
    "num_rec = 10\n",
    "\n",
    "# get recommendation from NN model\n",
    "rec, not_rec, real = recommend_tracks(sps_acc, playlist_id, model)\n",
    "\n",
    "# restrict number of real tracks to no more than 50\n",
    "if real.shape[0] > 50:\n",
    "    real = real[np.random.choice(real.shape[0], 50, replace=False)]\n",
    "\n",
    "# select rec and not_rec\n",
    "rec = rec[:num_rec]\n",
    "not_rec = not_rec[np.random.choice(not_rec.shape[0], num_rec, replace=False)]\n",
    "\n",
    "# calculate the pair number\n",
    "pair_num = real.shape[0]*num_rec\n",
    "\n",
    "# collect jaccard index for rec-real pairs\n",
    "rec_real_pairs = create_pairs_btw_lists(rec, real)\n",
    "rec_real_jac = [get_jaccard(sps_acc,i) for i in rec_real_pairs]\n",
    "\n",
    "# collect jaccard index for real-real pairs\n",
    "real_real_pairs = create_unique_pair_subset(real, pair_num)\n",
    "real_real_jac = [get_jaccard(sps_acc,i) for i in real_real_pairs]\n",
    "\n",
    "# collect jaccard index for not_rec-real pairs\n",
    "not_rec_real_pairs = create_pairs_btw_lists(not_rec, real)\n",
    "not_rec_real_jac = [get_jaccard(sps_acc,i) for i in not_rec_real_pairs]\n",
    "\n",
    "# random pairs\n",
    "rand_pair_num = 100\n",
    "rand_id = list(np.random.choice(n_tracks, 2*rand_pair_num))\n",
    "rand_pairs = [(tr1,tr2) for tr1 in rand_id[:rand_pair_num] \n",
    "              for tr2 in rand_id[rand_pair_num+1:] if tr1<tr2]\n",
    "rand_jac = [get_jaccard(sps_acc,i) for i in rand_pairs]\n",
    "\n",
    "print('Mean Jaccard index\\n rec vs. real =',np.mean(rec_real_jac),\n",
    "      '\\n btw real =',np.mean(real_real_jac),\n",
    "      '\\n not_rec vs. real',np.mean(not_rec_real_jac),\n",
    "      '\\n random pair',np.mean(rand_jac))"
   ]
  },
  {
   "cell_type": "markdown",
   "metadata": {},
   "source": [
    "### Visualize result\n",
    "***\n",
    "We can visualize the distribution of Jaccard index of 4 groups by plotting their empirical cumulative density functions. As we can see here, the ***rec vs. real*** group and ***btw real*** have distributions of higher Jaccard index, meaning that the tracks are similar to each other (even more similar for ***rec vs. real*** than ***btw real***), whereas the Jaccard index for ***not-rec vs. real*** group was really close to zero, comparable to ***random pairs*** of tracks. Therefore, the recommendation seems to be working well."
   ]
  },
  {
   "cell_type": "code",
   "execution_count": 11,
   "metadata": {},
   "outputs": [
    {
     "data": {
      "image/png": "[encoded data removed]",
      "text/plain": [
       "<Figure size 432x288 with 1 Axes>"
      ]
     },
     "metadata": {
      "needs_background": "light"
     },
     "output_type": "display_data"
    }
   ],
   "source": [
    "# visualize distribution of Jaccard index\n",
    "ecdf1 = sm.distributions.ECDF(real_real_jac)\n",
    "x1 = np.linspace(0, max(real_real_jac),1000)\n",
    "y1 = ecdf1(x1)\n",
    "plt.step(x1, y1,label='btw Real')\n",
    "\n",
    "ecdf2 = sm.distributions.ECDF(rec_real_jac)\n",
    "y2 = ecdf2(x1)\n",
    "plt.step(x1, y2,label='Rec vs. Real')\n",
    "\n",
    "ecdf3 = sm.distributions.ECDF(not_rec_real_jac)\n",
    "x3 = np.linspace(0, max(real_real_jac),10000)\n",
    "y3 = ecdf3(x3)\n",
    "plt.step(np.concatenate((np.zeros(1,),x3)), np.concatenate((np.zeros(1,),y3)),label='Not-rec vs. Real')\n",
    "\n",
    "ecdf4 = sm.distributions.ECDF(rand_jac)\n",
    "y4 = ecdf4(x3)\n",
    "plt.step(np.concatenate((np.zeros(1,),x3)), np.concatenate((np.zeros(1,),y4)),label='Random pair')\n",
    "\n",
    "plt.legend(loc='best')\n",
    "plt.title('Cumulative distribution of Jaccard index',fontsize = 15)\n",
    "plt.xlabel('Jaccard index',fontsize = 15)\n",
    "plt.ylabel('Cumulative density',fontsize = 15);"
   ]
  },
  {
   "cell_type": "markdown",
   "metadata": {},
   "source": [
    "## Scale up for 100 playlists\n",
    "***\n",
    "We can scale up our recommendation to 100 randomly selected playlists and look at the statistics of the Jaccard index of each group."
   ]
  },
  {
   "cell_type": "code",
   "execution_count": 14,
   "metadata": {},
   "outputs": [],
   "source": [
    "# load random playlist subset that was used for SVD\n",
    "with open('playlist_id_100_for_jaccard_SVD_rand.pkl','rb') as f1:\n",
    "    playlist_subset = pickle.load(f1)\n",
    "    \n",
    "# create empty lists\n",
    "mean_rec_real_jac = []\n",
    "mean_real_real_jac = []\n",
    "mean_not_rec_real_jac = []\n",
    "mean_rand_jac = []"
   ]
  },
  {
   "cell_type": "code",
   "execution_count": 18,
   "metadata": {},
   "outputs": [],
   "source": [
    "# loop over playlist subset to get jaccard index\n",
    "for ii, playlist_id in enumerate(playlist_subset):\n",
    "    # specify number of recommendation (=10 songs)\n",
    "    num_rec = 10\n",
    "    \n",
    "    # get recommendation from NN model\n",
    "    rec, not_rec, real = recommend_tracks(sps_acc, playlist_id, model)\n",
    "\n",
    "    # restrict number of real tracks to no more than 50\n",
    "    if real.shape[0] > 50:\n",
    "        real = real[np.random.choice(real.shape[0], 50, replace=False)]\n",
    "\n",
    "    # select rec and not_rec\n",
    "    rec = rec[:num_rec]\n",
    "    not_rec = not_rec[np.random.choice(not_rec.shape[0], num_rec, replace=False)]\n",
    "    \n",
    "    # calculate the pair number\n",
    "    pair_num = real.shape[0]*num_rec\n",
    "\n",
    "    # collect jaccard index for rec-real pairs\n",
    "    rec_real_pairs = create_pairs_btw_lists(rec, real)\n",
    "    rec_real_jac = [get_jaccard(sps_acc,i) for i in rec_real_pairs]\n",
    "    mean_rec_real_jac.append(np.mean(rec_real_jac))\n",
    "\n",
    "    # collect jaccard index for real-real pairs\n",
    "    real_real_pairs = create_unique_pair_subset(real, pair_num)\n",
    "    real_real_jac = [get_jaccard(sps_acc,i) for i in real_real_pairs]\n",
    "    mean_real_real_jac.append(np.mean(real_real_jac))\n",
    "\n",
    "    # collect jaccard index for not_rec-real pairs\n",
    "    not_rec_real_pairs = create_pairs_btw_lists(not_rec, real)\n",
    "    not_rec_real_jac = [get_jaccard(sps_acc,i) for i in not_rec_real_pairs]\n",
    "    mean_not_rec_real_jac.append(np.mean(not_rec_real_jac))\n",
    "    \n",
    "    # random pairs\n",
    "    rand_pair_num = 100\n",
    "    rand_id = list(np.random.choice(n_tracks, 2*rand_pair_num))\n",
    "    rand_pairs = [(tr1,tr2) for tr1 in rand_id[:rand_pair_num] \n",
    "                  for tr2 in rand_id[rand_pair_num+1:] if tr1<tr2]\n",
    "    rand_jac = [get_jaccard(sps_acc,i) for i in rand_pairs]\n",
    "    mean_rand_jac.append(np.mean(rand_jac))"
   ]
  },
  {
   "cell_type": "markdown",
   "metadata": {},
   "source": [
    "### Visualization \n",
    "***\n",
    "The boxplot below shows the distribution of mean Jaccard index of the 4 groups for the 100 playlists. The ***btw real*** had the highest Jaccard index, indicating high similarity between each pair. The ***rec vs. real*** had low but above zero Jaccard index. Jaccard index for ***not-rec vs. real group*** was close zero, showing low similarity (as ***random pairs*** of tracks). "
   ]
  },
  {
   "cell_type": "code",
   "execution_count": 25,
   "metadata": {},
   "outputs": [
    {
     "data": {
      "image/png": "[encoded data removed]",
      "text/plain": [
       "<Figure size 432x288 with 1 Axes>"
      ]
     },
     "metadata": {
      "needs_background": "light"
     },
     "output_type": "display_data"
    }
   ],
   "source": [
    "# result visualization\n",
    "# put results into dataframe\n",
    "all_jac = np.concatenate((np.array(mean_real_real_jac),\n",
    "                          np.array(mean_rec_real_jac),\n",
    "                          np.array(mean_not_rec_real_jac),\n",
    "                          np.array(mean_rand_jac)))\n",
    "label = np.concatenate((np.ones(100,),np.ones(100,)*2,\n",
    "                        np.ones(100,)*3,np.ones(100,)*4))\n",
    "jac_df = pd.DataFrame({'jac':all_jac, 'label': label})\n",
    "\n",
    "# plot boxplot\n",
    "ax = sns.boxplot(x='label', y='jac', data=jac_df)\n",
    "plt.xticks([0.,1.,2.,3.], ['btw Real','Rec vs. Real','Not-rec vs. Real','Random pair'],\n",
    "           fontsize = 15, rotation = 45)\n",
    "plt.ylim([-0.01, 0.5])\n",
    "plt.title('Boxplot: Mean Jaccard index',fontsize = 15)\n",
    "plt.xlabel('')\n",
    "plt.ylabel('Mean Jaccard index',fontsize = 15);"
   ]
  },
  {
   "cell_type": "markdown",
   "metadata": {},
   "source": [
    "Zoomed in:"
   ]
  },
  {
   "cell_type": "code",
   "execution_count": 28,
   "metadata": {},
   "outputs": [
    {
     "data": {
      "image/png": "[encoded data removed]",
      "text/plain": [
       "<Figure size 432x288 with 1 Axes>"
      ]
     },
     "metadata": {
      "needs_background": "light"
     },
     "output_type": "display_data"
    }
   ],
   "source": [
    "ax = sns.boxplot(x='label', y='jac', data=jac_df)\n",
    "plt.xticks([0.,1.,2.,3.], ['btw Real','Rec vs. Real','Not-rec vs. Real','Random pair'],\n",
    "           fontsize = 15, rotation = 45)\n",
    "plt.ylim([-0.01, 0.09])\n",
    "plt.title('Boxplot: Mean Jaccard index',fontsize = 15)\n",
    "plt.xlabel('')\n",
    "plt.ylabel('Mean Jaccard index',fontsize = 15);"
   ]
  },
  {
   "cell_type": "code",
   "execution_count": 38,
   "metadata": {},
   "outputs": [],
   "source": [
    "# put result into a dict and save it\n",
    "jaccard_dict = {}\n",
    "jaccard_dict['rec_real'] = mean_rec_real_jac\n",
    "jaccard_dict['real_real'] = mean_real_real_jac\n",
    "jaccard_dict['not_rec_real'] = mean_not_rec_real_jac\n",
    "jaccard_dict['rand_pair'] = mean_rand_jac\n",
    "\n",
    "with open('jaccard_100_playlists_NNCF10000_rand.pkl','wb') as f0:\n",
    "    pickle.dump(jaccard_dict, f0)\n",
    "with open('playlist_id_100_for_jaccard_NNCF10000_rand.pkl','wb') as f1:\n",
    "    pickle.dump(playlist_subset, f1)"
   ]
  }
 ],
 "metadata": {
  "kernelspec": {
   "display_name": "Python 3",
   "language": "python",
   "name": "python3"
  },
  "language_info": {
   "codemirror_mode": {
    "name": "ipython",
    "version": 3
   },
   "file_extension": ".py",
   "mimetype": "text/x-python",
   "name": "python",
   "nbconvert_exporter": "python",
   "pygments_lexer": "ipython3",
   "version": "3.6.6"
  }
 },
 "nbformat": 4,
 "nbformat_minor": 2
}
